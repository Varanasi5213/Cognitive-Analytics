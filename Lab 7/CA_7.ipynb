{
  "nbformat": 4,
  "nbformat_minor": 0,
  "metadata": {
    "colab": {
      "name": "CA 7.ipynb",
      "provenance": [],
      "collapsed_sections": []
    },
    "kernelspec": {
      "name": "python3",
      "display_name": "Python 3"
    },
    "accelerator": "GPU"
  },
  "cells": [
    {
      "cell_type": "markdown",
      "metadata": {
        "id": "9TShl92vxDiD"
      },
      "source": [
        "## XGBOOST & DNN"
      ]
    },
    {
      "cell_type": "markdown",
      "metadata": {
        "id": "rJcgeAWG2hO8"
      },
      "source": [
        "### Methodology"
      ]
    },
    {
      "cell_type": "markdown",
      "metadata": {
        "id": "RGiPisIW2mci"
      },
      "source": [
        "\n",
        "*   ###### **Data Cleaning:** Checking for null values and based on their number either droping them or replacing with mean, median, mode based on the type and description of data. Droping decscrete and catagorical variables that have highly skewed histograms.\n",
        "*   ###### **Data Visualization:** This step helps understand the understand the data in a visually. We can understand normality of the data as well. This helps us to decide whether to normalize the data. In case of catagorical variables it also helps in feature selection.\n",
        "*   ###### **Feature Selection:** Based on the Pearson correlation between the labeled column and rest of the features. In general, a very great correlation should have an absolute value greater than 0.75. When the labeled column is depended on multiple columns, the correlation with one column may be less. But combined features may have higher effect.\n",
        "*   ######  **Train Test Split:** We split the data into 80:20 ratio for tarining testing respectively.\n",
        "*   ###### **Model Selection:** Based on the data visualization and data correlation, we need to select a model that would best suit. Here we need to use XGBOOST.\n",
        "\n",
        "*   ###### **Evalution:** In this case we are using RMSE, R2 Score to determine the accuracy of the predicting model.\n",
        "\n"
      ]
    },
    {
      "cell_type": "markdown",
      "metadata": {
        "id": "izgRPaik-S8x"
      },
      "source": [
        " ##### Importing data"
      ]
    },
    {
      "cell_type": "code",
      "metadata": {
        "id": "imkfth5EBipT",
        "colab": {
          "base_uri": "https://localhost:8080/",
          "height": 51
        },
        "outputId": "7b9c72a6-54c4-4d2a-ce55-cd409efc3563"
      },
      "source": [
        "from keras.datasets import mnist\n",
        "(X_train, y_train), (X_test, y_test) = mnist.load_data()\n",
        "import numpy as np\n",
        "import matplotlib.pyplot as plt\n",
        "%load_ext tensorboard"
      ],
      "execution_count": null,
      "outputs": [
        {
          "output_type": "stream",
          "text": [
            "Downloading data from https://storage.googleapis.com/tensorflow/tf-keras-datasets/mnist.npz\n",
            "11493376/11490434 [==============================] - 0s 0us/step\n"
          ],
          "name": "stdout"
        }
      ]
    },
    {
      "cell_type": "markdown",
      "metadata": {
        "id": "mRxcFs5T-bZW"
      },
      "source": [
        "##### normalizing the data"
      ]
    },
    {
      "cell_type": "code",
      "metadata": {
        "id": "_XL4A3tXEOhJ"
      },
      "source": [
        "X_train = X_train/255\n",
        "X_test = X_test/255"
      ],
      "execution_count": null,
      "outputs": []
    },
    {
      "cell_type": "markdown",
      "metadata": {
        "id": "2J5Q8TOP-egM"
      },
      "source": [
        "##### checking the shaps of data"
      ]
    },
    {
      "cell_type": "code",
      "metadata": {
        "id": "717PwXcgDGqg",
        "colab": {
          "base_uri": "https://localhost:8080/",
          "height": 34
        },
        "outputId": "3d33bc0e-c238-468b-c89f-c3893734f188"
      },
      "source": [
        "X_train.shape"
      ],
      "execution_count": null,
      "outputs": [
        {
          "output_type": "execute_result",
          "data": {
            "text/plain": [
              "(60000, 28, 28)"
            ]
          },
          "metadata": {
            "tags": []
          },
          "execution_count": 3
        }
      ]
    },
    {
      "cell_type": "code",
      "metadata": {
        "id": "gWebE3GNJ97k",
        "colab": {
          "base_uri": "https://localhost:8080/",
          "height": 34
        },
        "outputId": "056bcfb5-1b4e-46c6-a01e-12eba7637f8b"
      },
      "source": [
        "X_test.shape"
      ],
      "execution_count": null,
      "outputs": [
        {
          "output_type": "execute_result",
          "data": {
            "text/plain": [
              "(10000, 28, 28)"
            ]
          },
          "metadata": {
            "tags": []
          },
          "execution_count": 4
        }
      ]
    },
    {
      "cell_type": "markdown",
      "metadata": {
        "id": "FXW53r1c-jcD"
      },
      "source": [
        "##### one hot encoding of label feature"
      ]
    },
    {
      "cell_type": "code",
      "metadata": {
        "id": "SZGsSld1HNnr"
      },
      "source": [
        "import keras\n",
        "y_train = keras.utils.to_categorical(y_train, 10)\n",
        "y_test = keras.utils.to_categorical(y_test, 10)"
      ],
      "execution_count": null,
      "outputs": []
    },
    {
      "cell_type": "markdown",
      "metadata": {
        "id": "0hYONJod-13_"
      },
      "source": [
        "##### ploting data"
      ]
    },
    {
      "cell_type": "code",
      "metadata": {
        "id": "Aqo3Q2JfDIuc",
        "colab": {
          "base_uri": "https://localhost:8080/",
          "height": 309
        },
        "outputId": "f27b9f1c-9e5c-4afa-ccca-8b0a67ae96b9"
      },
      "source": [
        "plt.gray() \n",
        "plt.matshow(X_train[0]) \n",
        "np.argmax(y_train[0])"
      ],
      "execution_count": null,
      "outputs": [
        {
          "output_type": "execute_result",
          "data": {
            "text/plain": [
              "5"
            ]
          },
          "metadata": {
            "tags": []
          },
          "execution_count": 6
        },
        {
          "output_type": "display_data",
          "data": {
            "text/plain": [
              "<Figure size 432x288 with 0 Axes>"
            ]
          },
          "metadata": {
            "tags": []
          }
        },
        {
          "output_type": "display_data",
          "data": {
            "image/png": "[encoded data removed]",
            "text/plain": [
              "<Figure size 288x288 with 1 Axes>"
            ]
          },
          "metadata": {
            "tags": [],
            "needs_background": "light"
          }
        }
      ]
    },
    {
      "cell_type": "markdown",
      "metadata": {
        "id": "_h_mBCRD-8M8"
      },
      "source": [
        "##### creating a simple NN on the data"
      ]
    },
    {
      "cell_type": "code",
      "metadata": {
        "id": "dXIi0WBYDQDU"
      },
      "source": [
        "import tensorflow as tf\n",
        "from keras.layers import Dense\n",
        "from keras.models import Sequential "
      ],
      "execution_count": null,
      "outputs": []
    },
    {
      "cell_type": "code",
      "metadata": {
        "id": "7mAyndG3kVlK"
      },
      "source": [
        "model = tf.keras.models.Sequential([tf.keras.layers.Flatten(), \n",
        "                                    tf.keras.layers.Dense(128, activation=\"relu\"), \n",
        "                                    tf.keras.layers.Dense(10, activation=\"softmax\")])"
      ],
      "execution_count": null,
      "outputs": []
    },
    {
      "cell_type": "markdown",
      "metadata": {
        "id": "O3okk1Yo_Fw8"
      },
      "source": [
        "##### training the NN on the data"
      ]
    },
    {
      "cell_type": "code",
      "metadata": {
        "id": "h-IjuSwAEXYz",
        "colab": {
          "base_uri": "https://localhost:8080/",
          "height": 1000
        },
        "outputId": "a24a9cd4-1f0a-4f56-e843-9b8bfde9d555"
      },
      "source": [
        "tf.keras.backend.clear_session()\n",
        "model.compile(optimizer=\"Adam\", loss='categorical_crossentropy', metrics=['accuracy'])\n",
        "history = model.fit(X_train, y_train, batch_size=128, epochs=50, validation_split=.1, callbacks=[keras.callbacks.TensorBoard()])"
      ],
      "execution_count": null,
      "outputs": [
        {
          "output_type": "stream",
          "text": [
            "Epoch 1/50\n",
            "  1/422 [..............................] - ETA: 0s - loss: 2.3343 - accuracy: 0.1406WARNING:tensorflow:From /usr/local/lib/python3.6/dist-packages/tensorflow/python/ops/summary_ops_v2.py:1277: stop (from tensorflow.python.eager.profiler) is deprecated and will be removed after 2020-07-01.\n",
            "Instructions for updating:\n",
            "use `tf.profiler.experimental.stop` instead.\n",
            "  2/422 [..............................] - ETA: 18s - loss: 2.3052 - accuracy: 0.1367WARNING:tensorflow:Callbacks method `on_train_batch_end` is slow compared to the batch time (batch time: 0.0095s vs `on_train_batch_end` time: 0.0786s). Check your callbacks.\n",
            "422/422 [==============================] - 2s 4ms/step - loss: 0.3814 - accuracy: 0.8937 - val_loss: 0.1731 - val_accuracy: 0.9537\n",
            "Epoch 2/50\n",
            "422/422 [==============================] - 2s 4ms/step - loss: 0.1817 - accuracy: 0.9480 - val_loss: 0.1273 - val_accuracy: 0.9662\n",
            "Epoch 3/50\n",
            "422/422 [==============================] - 2s 4ms/step - loss: 0.1303 - accuracy: 0.9622 - val_loss: 0.1055 - val_accuracy: 0.9715\n",
            "Epoch 4/50\n",
            "422/422 [==============================] - 2s 4ms/step - loss: 0.1016 - accuracy: 0.9704 - val_loss: 0.0942 - val_accuracy: 0.9735\n",
            "Epoch 5/50\n",
            "422/422 [==============================] - 2s 4ms/step - loss: 0.0821 - accuracy: 0.9763 - val_loss: 0.0907 - val_accuracy: 0.9745\n",
            "Epoch 6/50\n",
            "422/422 [==============================] - 2s 4ms/step - loss: 0.0668 - accuracy: 0.9810 - val_loss: 0.0841 - val_accuracy: 0.9762\n",
            "Epoch 7/50\n",
            "422/422 [==============================] - 2s 4ms/step - loss: 0.0557 - accuracy: 0.9840 - val_loss: 0.0772 - val_accuracy: 0.9773\n",
            "Epoch 8/50\n",
            "422/422 [==============================] - 2s 4ms/step - loss: 0.0475 - accuracy: 0.9864 - val_loss: 0.0753 - val_accuracy: 0.9795\n",
            "Epoch 9/50\n",
            "422/422 [==============================] - 2s 4ms/step - loss: 0.0393 - accuracy: 0.9892 - val_loss: 0.0792 - val_accuracy: 0.9777\n",
            "Epoch 10/50\n",
            "422/422 [==============================] - 2s 4ms/step - loss: 0.0338 - accuracy: 0.9906 - val_loss: 0.0768 - val_accuracy: 0.9788\n",
            "Epoch 11/50\n",
            "422/422 [==============================] - 2s 4ms/step - loss: 0.0286 - accuracy: 0.9922 - val_loss: 0.0760 - val_accuracy: 0.9812\n",
            "Epoch 12/50\n",
            "422/422 [==============================] - 2s 4ms/step - loss: 0.0245 - accuracy: 0.9937 - val_loss: 0.0742 - val_accuracy: 0.9808\n",
            "Epoch 13/50\n",
            "422/422 [==============================] - 2s 4ms/step - loss: 0.0204 - accuracy: 0.9954 - val_loss: 0.0812 - val_accuracy: 0.9785\n",
            "Epoch 14/50\n",
            "422/422 [==============================] - 2s 4ms/step - loss: 0.0169 - accuracy: 0.9961 - val_loss: 0.0792 - val_accuracy: 0.9795\n",
            "Epoch 15/50\n",
            "422/422 [==============================] - 2s 4ms/step - loss: 0.0149 - accuracy: 0.9966 - val_loss: 0.0787 - val_accuracy: 0.9803\n",
            "Epoch 16/50\n",
            "422/422 [==============================] - 2s 4ms/step - loss: 0.0119 - accuracy: 0.9979 - val_loss: 0.0783 - val_accuracy: 0.9812\n",
            "Epoch 17/50\n",
            "422/422 [==============================] - 2s 4ms/step - loss: 0.0101 - accuracy: 0.9984 - val_loss: 0.0826 - val_accuracy: 0.9798\n",
            "Epoch 18/50\n",
            "422/422 [==============================] - 2s 4ms/step - loss: 0.0098 - accuracy: 0.9979 - val_loss: 0.0878 - val_accuracy: 0.9793\n",
            "Epoch 19/50\n",
            "422/422 [==============================] - 2s 4ms/step - loss: 0.0087 - accuracy: 0.9983 - val_loss: 0.0887 - val_accuracy: 0.9795\n",
            "Epoch 20/50\n",
            "422/422 [==============================] - 2s 4ms/step - loss: 0.0067 - accuracy: 0.9989 - val_loss: 0.0825 - val_accuracy: 0.9810\n",
            "Epoch 21/50\n",
            "422/422 [==============================] - 2s 4ms/step - loss: 0.0054 - accuracy: 0.9994 - val_loss: 0.0880 - val_accuracy: 0.9798\n",
            "Epoch 22/50\n",
            "422/422 [==============================] - 2s 4ms/step - loss: 0.0042 - accuracy: 0.9997 - val_loss: 0.0893 - val_accuracy: 0.9807\n",
            "Epoch 23/50\n",
            "422/422 [==============================] - 2s 4ms/step - loss: 0.0040 - accuracy: 0.9996 - val_loss: 0.0915 - val_accuracy: 0.9795\n",
            "Epoch 24/50\n",
            "422/422 [==============================] - 2s 4ms/step - loss: 0.0038 - accuracy: 0.9996 - val_loss: 0.0980 - val_accuracy: 0.9777\n",
            "Epoch 25/50\n",
            "422/422 [==============================] - 2s 4ms/step - loss: 0.0061 - accuracy: 0.9986 - val_loss: 0.1075 - val_accuracy: 0.9780\n",
            "Epoch 26/50\n",
            "422/422 [==============================] - 2s 4ms/step - loss: 0.0049 - accuracy: 0.9991 - val_loss: 0.0957 - val_accuracy: 0.9807\n",
            "Epoch 27/50\n",
            "422/422 [==============================] - 2s 4ms/step - loss: 0.0020 - accuracy: 0.9999 - val_loss: 0.0944 - val_accuracy: 0.9805\n",
            "Epoch 28/50\n",
            "422/422 [==============================] - 2s 4ms/step - loss: 0.0013 - accuracy: 1.0000 - val_loss: 0.0963 - val_accuracy: 0.9812\n",
            "Epoch 29/50\n",
            "422/422 [==============================] - 2s 4ms/step - loss: 0.0013 - accuracy: 0.9999 - val_loss: 0.0946 - val_accuracy: 0.9803\n",
            "Epoch 30/50\n",
            "422/422 [==============================] - 2s 4ms/step - loss: 8.9793e-04 - accuracy: 1.0000 - val_loss: 0.0973 - val_accuracy: 0.9813\n",
            "Epoch 31/50\n",
            "422/422 [==============================] - 2s 4ms/step - loss: 0.0024 - accuracy: 0.9995 - val_loss: 0.1260 - val_accuracy: 0.9740\n",
            "Epoch 32/50\n",
            "422/422 [==============================] - 2s 4ms/step - loss: 0.0105 - accuracy: 0.9966 - val_loss: 0.1004 - val_accuracy: 0.9808\n",
            "Epoch 33/50\n",
            "422/422 [==============================] - 2s 4ms/step - loss: 0.0017 - accuracy: 0.9999 - val_loss: 0.0984 - val_accuracy: 0.9812\n",
            "Epoch 34/50\n",
            "422/422 [==============================] - 2s 4ms/step - loss: 7.0396e-04 - accuracy: 1.0000 - val_loss: 0.1014 - val_accuracy: 0.9820\n",
            "Epoch 35/50\n",
            "422/422 [==============================] - 2s 4ms/step - loss: 5.3370e-04 - accuracy: 1.0000 - val_loss: 0.0990 - val_accuracy: 0.9820\n",
            "Epoch 36/50\n",
            "422/422 [==============================] - 2s 4ms/step - loss: 4.4426e-04 - accuracy: 1.0000 - val_loss: 0.0999 - val_accuracy: 0.9817\n",
            "Epoch 37/50\n",
            "422/422 [==============================] - 2s 4ms/step - loss: 3.9125e-04 - accuracy: 1.0000 - val_loss: 0.1024 - val_accuracy: 0.9825\n",
            "Epoch 38/50\n",
            "422/422 [==============================] - 2s 4ms/step - loss: 3.6494e-04 - accuracy: 1.0000 - val_loss: 0.1028 - val_accuracy: 0.9822\n",
            "Epoch 39/50\n",
            "422/422 [==============================] - 2s 4ms/step - loss: 4.8519e-04 - accuracy: 1.0000 - val_loss: 0.1243 - val_accuracy: 0.9770\n",
            "Epoch 40/50\n",
            "422/422 [==============================] - 2s 4ms/step - loss: 0.0142 - accuracy: 0.9952 - val_loss: 0.1072 - val_accuracy: 0.9802\n",
            "Epoch 41/50\n",
            "422/422 [==============================] - 2s 4ms/step - loss: 0.0017 - accuracy: 0.9997 - val_loss: 0.1100 - val_accuracy: 0.9823\n",
            "Epoch 42/50\n",
            "422/422 [==============================] - 2s 4ms/step - loss: 7.9262e-04 - accuracy: 0.9999 - val_loss: 0.1064 - val_accuracy: 0.9820\n",
            "Epoch 43/50\n",
            "422/422 [==============================] - 2s 4ms/step - loss: 3.6454e-04 - accuracy: 1.0000 - val_loss: 0.1047 - val_accuracy: 0.9835\n",
            "Epoch 44/50\n",
            "422/422 [==============================] - 2s 4ms/step - loss: 2.9782e-04 - accuracy: 1.0000 - val_loss: 0.1050 - val_accuracy: 0.9828\n",
            "Epoch 45/50\n",
            "422/422 [==============================] - 2s 4ms/step - loss: 2.6343e-04 - accuracy: 1.0000 - val_loss: 0.1061 - val_accuracy: 0.9825\n",
            "Epoch 46/50\n",
            "422/422 [==============================] - 2s 4ms/step - loss: 2.3135e-04 - accuracy: 1.0000 - val_loss: 0.1073 - val_accuracy: 0.9825\n",
            "Epoch 47/50\n",
            "422/422 [==============================] - 2s 4ms/step - loss: 2.1122e-04 - accuracy: 1.0000 - val_loss: 0.1071 - val_accuracy: 0.9827\n",
            "Epoch 48/50\n",
            "422/422 [==============================] - 2s 4ms/step - loss: 1.8946e-04 - accuracy: 1.0000 - val_loss: 0.1081 - val_accuracy: 0.9827\n",
            "Epoch 49/50\n",
            "422/422 [==============================] - 2s 4ms/step - loss: 1.7342e-04 - accuracy: 1.0000 - val_loss: 0.1117 - val_accuracy: 0.9815\n",
            "Epoch 50/50\n",
            "422/422 [==============================] - 2s 4ms/step - loss: 1.6468e-04 - accuracy: 1.0000 - val_loss: 0.1105 - val_accuracy: 0.9818\n"
          ],
          "name": "stdout"
        }
      ]
    },
    {
      "cell_type": "markdown",
      "metadata": {
        "id": "dgWRNta6_Adt"
      },
      "source": [
        "##### Testing the NN on the data"
      ]
    },
    {
      "cell_type": "code",
      "metadata": {
        "id": "hAAE15TnFNm0",
        "colab": {
          "base_uri": "https://localhost:8080/",
          "height": 51
        },
        "outputId": "c15f8bba-6c29-488d-c285-d98dfdb37e8c"
      },
      "source": [
        "model.evaluate(X_test,y_test)"
      ],
      "execution_count": null,
      "outputs": [
        {
          "output_type": "stream",
          "text": [
            "313/313 [==============================] - 1s 3ms/step - loss: 0.1019 - accuracy: 0.9791\n"
          ],
          "name": "stdout"
        },
        {
          "output_type": "execute_result",
          "data": {
            "text/plain": [
              "[0.1018671840429306, 0.9790999889373779]"
            ]
          },
          "metadata": {
            "tags": []
          },
          "execution_count": 9
        }
      ]
    },
    {
      "cell_type": "markdown",
      "metadata": {
        "id": "XP-LsRHiCttC"
      },
      "source": [
        "there is no overfit in the model"
      ]
    },
    {
      "cell_type": "markdown",
      "metadata": {
        "id": "0ol-0ROK_OdP"
      },
      "source": [
        "##### ploting training and validation accuracy"
      ]
    },
    {
      "cell_type": "code",
      "metadata": {
        "id": "l7oHe1L4OfCj",
        "colab": {
          "base_uri": "https://localhost:8080/",
          "height": 295
        },
        "outputId": "41174060-fc2d-44ae-834b-6a938c3a5714"
      },
      "source": [
        "plt.plot(history.history['accuracy'])\n",
        "plt.plot(history.history['val_accuracy'])\n",
        "plt.title('model accuracy')\n",
        "plt.ylabel('accuracy')\n",
        "plt.xlabel('epoch')\n",
        "plt.legend(['training', 'validation'], loc='best')\n",
        "plt.show()"
      ],
      "execution_count": null,
      "outputs": [
        {
          "output_type": "display_data",
          "data": {
            "image/png": "[encoded data removed]",
            "text/plain": [
              "<Figure size 432x288 with 1 Axes>"
            ]
          },
          "metadata": {
            "tags": [],
            "needs_background": "light"
          }
        }
      ]
    },
    {
      "cell_type": "markdown",
      "metadata": {
        "id": "W0ss5P8l_ULB"
      },
      "source": [
        "##### creating heat map for confusion matrix"
      ]
    },
    {
      "cell_type": "code",
      "metadata": {
        "id": "0D4wKWMIH-BU"
      },
      "source": [
        "import numpy as np\n",
        "p=model.predict(X_test)\n",
        "pred=[]\n",
        "act=[]\n",
        "for i in range(len(X_test)):\n",
        "    act.append(np.argmax(y_test[i]))\n",
        "    pred.append(np.argmax(p[i]))"
      ],
      "execution_count": null,
      "outputs": []
    },
    {
      "cell_type": "code",
      "metadata": {
        "id": "MwPgO-axLgll"
      },
      "source": [
        "from sklearn.metrics import confusion_matrix\n",
        "confm=confusion_matrix(act, pred, labels=list(range(10)))"
      ],
      "execution_count": null,
      "outputs": []
    },
    {
      "cell_type": "code",
      "metadata": {
        "id": "-NIAPAnbNq3u",
        "colab": {
          "base_uri": "https://localhost:8080/",
          "height": 869
        },
        "outputId": "b46f3619-e3f9-400f-c928-c65d895f370b"
      },
      "source": [
        "import seaborn as sns\n",
        "import matplotlib.pyplot as plt\n",
        "plt.figure(figsize=(15,15))\n",
        "ax=sns.heatmap(confm,annot=True,fmt='d',cbar=True,square=True,cmap=\"gist_stern\")\n",
        "bottom, top = ax.get_ylim()\n",
        "ax.set_ylim(bottom + 0.5, top - 0.5)\n",
        "plt.xlabel(\"predicted label\")\n",
        "plt.ylabel(\"true label\")"
      ],
      "execution_count": null,
      "outputs": [
        {
          "output_type": "execute_result",
          "data": {
            "text/plain": [
              "Text(114.0, 0.5, 'true label')"
            ]
          },
          "metadata": {
            "tags": []
          },
          "execution_count": 13
        },
        {
          "output_type": "display_data",
          "data": {
            "image/png": "[encoded data removed]",
            "text/plain": [
              "<Figure size 1080x1080 with 2 Axes>"
            ]
          },
          "metadata": {
            "tags": [],
            "needs_background": "light"
          }
        }
      ]
    },
    {
      "cell_type": "markdown",
      "metadata": {
        "id": "eCXC3mM6C6jU"
      },
      "source": [
        "The errors are spread out in all the classes"
      ]
    },
    {
      "cell_type": "markdown",
      "metadata": {
        "id": "VvssTFp-BdLr"
      },
      "source": [
        "##### training XGBoost on Data"
      ]
    },
    {
      "cell_type": "code",
      "metadata": {
        "id": "D51fLK0r9sNi",
        "colab": {
          "base_uri": "https://localhost:8080/",
          "height": 136
        },
        "outputId": "455a306e-a263-43a6-f40a-6ed979e4cc08"
      },
      "source": [
        "from xgboost import XGBClassifier\n",
        "(X_train, y_train), (X_test, y_test) = mnist.load_data()\n",
        "X_train=X_train.reshape(60000,784) # flattening the data\n",
        "X_test=X_test.reshape(10000,784)\n",
        "model = XGBClassifier()\n",
        "model.fit(X_train, y_train)"
      ],
      "execution_count": null,
      "outputs": [
        {
          "output_type": "execute_result",
          "data": {
            "text/plain": [
              "XGBClassifier(base_score=0.5, booster='gbtree', colsample_bylevel=1,\n",
              "              colsample_bynode=1, colsample_bytree=1, gamma=0,\n",
              "              learning_rate=0.1, max_delta_step=0, max_depth=3,\n",
              "              min_child_weight=1, missing=None, n_estimators=100, n_jobs=1,\n",
              "              nthread=None, objective='multi:softprob', random_state=0,\n",
              "              reg_alpha=0, reg_lambda=1, scale_pos_weight=1, seed=None,\n",
              "              silent=None, subsample=1, verbosity=1)"
            ]
          },
          "metadata": {
            "tags": []
          },
          "execution_count": 21
        }
      ]
    },
    {
      "cell_type": "code",
      "metadata": {
        "id": "p5EwDmHl_cUe",
        "colab": {
          "base_uri": "https://localhost:8080/",
          "height": 34
        },
        "outputId": "cfae0948-ad80-4b2c-f7d7-8717c2ed7a4c"
      },
      "source": [
        "model.score(X_train, y_train)"
      ],
      "execution_count": null,
      "outputs": [
        {
          "output_type": "execute_result",
          "data": {
            "text/plain": [
              "0.9434833333333333"
            ]
          },
          "metadata": {
            "tags": []
          },
          "execution_count": 22
        }
      ]
    },
    {
      "cell_type": "markdown",
      "metadata": {
        "id": "Wlhk8uFnBonq"
      },
      "source": [
        "##### Testing XGBoost on the data"
      ]
    },
    {
      "cell_type": "markdown",
      "metadata": {
        "id": "_KNVc2ZTFnIT"
      },
      "source": [
        "There no overfit"
      ]
    },
    {
      "cell_type": "code",
      "metadata": {
        "id": "YPUrCExR_gPT",
        "colab": {
          "base_uri": "https://localhost:8080/",
          "height": 34
        },
        "outputId": "c104a9db-34a7-42c3-e8b9-c4c2ca436ea2"
      },
      "source": [
        "model.score(X_test, y_test)"
      ],
      "execution_count": null,
      "outputs": [
        {
          "output_type": "execute_result",
          "data": {
            "text/plain": [
              "0.9368"
            ]
          },
          "metadata": {
            "tags": []
          },
          "execution_count": 31
        }
      ]
    },
    {
      "cell_type": "code",
      "metadata": {
        "id": "v4_E50TBFspc"
      },
      "source": [
        "import numpy as np\n",
        "p=model.predict(X_test)"
      ],
      "execution_count": null,
      "outputs": []
    },
    {
      "cell_type": "code",
      "metadata": {
        "id": "JPV4JyqRGQAz"
      },
      "source": [
        "from sklearn.metrics import confusion_matrix\n",
        "confm=confusion_matrix(y_test, p, labels=list(range(10)))"
      ],
      "execution_count": null,
      "outputs": []
    },
    {
      "cell_type": "code",
      "metadata": {
        "id": "NEcMM3gHFv35",
        "colab": {
          "base_uri": "https://localhost:8080/",
          "height": 869
        },
        "outputId": "991be0e8-6675-42aa-faf8-1b257b35b442"
      },
      "source": [
        "import seaborn as sns\n",
        "import matplotlib.pyplot as plt\n",
        "plt.figure(figsize=(15,15))\n",
        "ax=sns.heatmap(confm,annot=True,fmt='d',cbar=True,square=True,cmap=\"gist_stern\")\n",
        "bottom, top = ax.get_ylim()\n",
        "ax.set_ylim(bottom + 0.5, top - 0.5)\n",
        "plt.xlabel(\"predicted label\")\n",
        "plt.ylabel(\"true label\")"
      ],
      "execution_count": null,
      "outputs": [
        {
          "output_type": "execute_result",
          "data": {
            "text/plain": [
              "Text(114.0, 0.5, 'true label')"
            ]
          },
          "metadata": {
            "tags": []
          },
          "execution_count": 38
        },
        {
          "output_type": "display_data",
          "data": {
            "image/png": "[encoded data removed]",
            "text/plain": [
              "<Figure size 1080x1080 with 2 Axes>"
            ]
          },
          "metadata": {
            "tags": [],
            "needs_background": "light"
          }
        }
      ]
    },
    {
      "cell_type": "markdown",
      "metadata": {
        "id": "xlrGuO-vH9XS"
      },
      "source": [
        "The errors are not so speardout and are more in number compaed to NN"
      ]
    },
    {
      "cell_type": "markdown",
      "metadata": {
        "id": "x23IdhmvILzH"
      },
      "source": [
        "Class 4 has 52 intsances clasified as 9 there is scope for learning"
      ]
    }
  ]
}