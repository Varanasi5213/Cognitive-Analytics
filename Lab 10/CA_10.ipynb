{
  "nbformat": 4,
  "nbformat_minor": 0,
  "metadata": {
    "colab": {
      "name": "CA 10.ipynb",
      "provenance": []
    },
    "kernelspec": {
      "name": "python3",
      "display_name": "Python 3"
    }
  },
  "cells": [
    {
      "cell_type": "markdown",
      "metadata": {
        "id": "-dtAx5Kiqn_h"
      },
      "source": [
        "## SVM"
      ]
    },
    {
      "cell_type": "markdown",
      "metadata": {
        "id": "R-oRScw4qk1J"
      },
      "source": [
        "### Methodology\n",
        "*   ###### **Data Cleaning:** Checking for null values and based on their number either droping them or replacing with mean, median, mode based on the type and description of data. Droping decscrete and catagorical variables that have highly skewed histograms.\n",
        "*   ###### **Data Visualization:** This step helps understand the understand the data in a visually. We can understand normality of the data as well. This helps us to decide whether to normalize the data. In case of catagorical variables it also helps in feature selection.\n",
        "*   ###### **Feature Selection:** Based on the Pearson correlation between the labeled column and rest of the features. In general, a very great correlation should have an absolute value greater than 0.75. When the labeled column is depended on multiple columns, the correlation with one column may be less. But combined features may have higher effect.\n",
        "*   ######  **Train Test Split:** We split the data into 80:20 ratio for tarining testing respectively.\n",
        "*   ###### **Model Selection:** Based on the data visualization and data correlation, we need to select a model that would best suit. Here we need to use SVM.\n",
        "\n",
        "*   ###### **Evalution:** In this case we are using F1 Score to determine the accuracy of the predicting model.\n"
      ]
    },
    {
      "cell_type": "markdown",
      "metadata": {
        "id": "gW1P9osdrv5Z"
      },
      "source": [
        "![sol.png](data:image/png;base64,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)"
      ]
    },
    {
      "cell_type": "code",
      "metadata": {
        "id": "nwSizZqgbVnl"
      },
      "source": [
        "import pandas as pd\n",
        "import matplotlib.pyplot as plt"
      ],
      "execution_count": 1,
      "outputs": []
    },
    {
      "cell_type": "code",
      "metadata": {
        "colab": {
          "base_uri": "https://localhost:8080/",
          "height": 0
        },
        "id": "ABYtOknzboJ9",
        "outputId": "3f8ba55d-d256-483f-c47e-730398e8d853"
      },
      "source": [
        "from google.colab import drive\n",
        "drive.mount('/content/drive')"
      ],
      "execution_count": 2,
      "outputs": [
        {
          "output_type": "stream",
          "text": [
            "Mounted at /content/drive\n"
          ],
          "name": "stdout"
        }
      ]
    },
    {
      "cell_type": "code",
      "metadata": {
        "id": "jefR-3NjbpiY"
      },
      "source": [
        "df = pd.read_excel(\"drive/My Drive/voice.xlsx\")"
      ],
      "execution_count": 3,
      "outputs": []
    },
    {
      "cell_type": "code",
      "metadata": {
        "colab": {
          "base_uri": "https://localhost:8080/",
          "height": 439
        },
        "id": "TZvqU5EEb6y5",
        "outputId": "64642fed-4116-4686-b967-2e2ed22f0fbc"
      },
      "source": [
        "df"
      ],
      "execution_count": 4,
      "outputs": [
        {
          "output_type": "execute_result",
          "data": {
            "text/html": [
              "<div>\n",
              "<style scoped>\n",
              "    .dataframe tbody tr th:only-of-type {\n",
              "        vertical-align: middle;\n",
              "    }\n",
              "\n",
              "    .dataframe tbody tr th {\n",
              "        vertical-align: top;\n",
              "    }\n",
              "\n",
              "    .dataframe thead th {\n",
              "        text-align: right;\n",
              "    }\n",
              "</style>\n",
              "<table border=\"1\" class=\"dataframe\">\n",
              "  <thead>\n",
              "    <tr style=\"text-align: right;\">\n",
              "      <th></th>\n",
              "      <th>meanfreq</th>\n",
              "      <th>sd</th>\n",
              "      <th>median</th>\n",
              "      <th>Q25</th>\n",
              "      <th>Q75</th>\n",
              "      <th>IQR</th>\n",
              "      <th>skew</th>\n",
              "      <th>kurt</th>\n",
              "      <th>sp.ent</th>\n",
              "      <th>sfm</th>\n",
              "      <th>mode</th>\n",
              "      <th>centroid</th>\n",
              "      <th>meanfun</th>\n",
              "      <th>minfun</th>\n",
              "      <th>maxfun</th>\n",
              "      <th>meandom</th>\n",
              "      <th>mindom</th>\n",
              "      <th>maxdom</th>\n",
              "      <th>dfrange</th>\n",
              "      <th>modindx</th>\n",
              "      <th>label</th>\n",
              "    </tr>\n",
              "  </thead>\n",
              "  <tbody>\n",
              "    <tr>\n",
              "      <th>0</th>\n",
              "      <td>0.059781</td>\n",
              "      <td>0.064241</td>\n",
              "      <td>0.032027</td>\n",
              "      <td>0.015071</td>\n",
              "      <td>0.090193</td>\n",
              "      <td>0.075122</td>\n",
              "      <td>12.863462</td>\n",
              "      <td>274.402906</td>\n",
              "      <td>0.893369</td>\n",
              "      <td>0.491918</td>\n",
              "      <td>0.000000</td>\n",
              "      <td>0.059781</td>\n",
              "      <td>0.084279</td>\n",
              "      <td>0.015702</td>\n",
              "      <td>0.275862</td>\n",
              "      <td>0.007812</td>\n",
              "      <td>0.007812</td>\n",
              "      <td>0.007812</td>\n",
              "      <td>0.000000</td>\n",
              "      <td>0.000000</td>\n",
              "      <td>male</td>\n",
              "    </tr>\n",
              "    <tr>\n",
              "      <th>1</th>\n",
              "      <td>0.066009</td>\n",
              "      <td>0.067310</td>\n",
              "      <td>0.040229</td>\n",
              "      <td>0.019414</td>\n",
              "      <td>0.092666</td>\n",
              "      <td>0.073252</td>\n",
              "      <td>22.423285</td>\n",
              "      <td>634.613855</td>\n",
              "      <td>0.892193</td>\n",
              "      <td>0.513724</td>\n",
              "      <td>0.000000</td>\n",
              "      <td>0.066009</td>\n",
              "      <td>0.107937</td>\n",
              "      <td>0.015826</td>\n",
              "      <td>0.250000</td>\n",
              "      <td>0.009014</td>\n",
              "      <td>0.007812</td>\n",
              "      <td>0.054688</td>\n",
              "      <td>0.046875</td>\n",
              "      <td>0.052632</td>\n",
              "      <td>male</td>\n",
              "    </tr>\n",
              "    <tr>\n",
              "      <th>2</th>\n",
              "      <td>0.077316</td>\n",
              "      <td>0.083829</td>\n",
              "      <td>0.036718</td>\n",
              "      <td>0.008701</td>\n",
              "      <td>0.131908</td>\n",
              "      <td>0.123207</td>\n",
              "      <td>30.757155</td>\n",
              "      <td>1024.927705</td>\n",
              "      <td>0.846389</td>\n",
              "      <td>0.478905</td>\n",
              "      <td>0.000000</td>\n",
              "      <td>0.077316</td>\n",
              "      <td>0.098706</td>\n",
              "      <td>0.015656</td>\n",
              "      <td>0.271186</td>\n",
              "      <td>0.007990</td>\n",
              "      <td>0.007812</td>\n",
              "      <td>0.015625</td>\n",
              "      <td>0.007812</td>\n",
              "      <td>0.046512</td>\n",
              "      <td>male</td>\n",
              "    </tr>\n",
              "    <tr>\n",
              "      <th>3</th>\n",
              "      <td>0.151228</td>\n",
              "      <td>0.072111</td>\n",
              "      <td>0.158011</td>\n",
              "      <td>0.096582</td>\n",
              "      <td>0.207955</td>\n",
              "      <td>0.111374</td>\n",
              "      <td>1.232831</td>\n",
              "      <td>4.177296</td>\n",
              "      <td>0.963322</td>\n",
              "      <td>0.727232</td>\n",
              "      <td>0.083878</td>\n",
              "      <td>0.151228</td>\n",
              "      <td>0.088965</td>\n",
              "      <td>0.017798</td>\n",
              "      <td>0.250000</td>\n",
              "      <td>0.201497</td>\n",
              "      <td>0.007812</td>\n",
              "      <td>0.562500</td>\n",
              "      <td>0.554688</td>\n",
              "      <td>0.247119</td>\n",
              "      <td>male</td>\n",
              "    </tr>\n",
              "    <tr>\n",
              "      <th>4</th>\n",
              "      <td>0.135120</td>\n",
              "      <td>0.079146</td>\n",
              "      <td>0.124656</td>\n",
              "      <td>0.078720</td>\n",
              "      <td>0.206045</td>\n",
              "      <td>0.127325</td>\n",
              "      <td>1.101174</td>\n",
              "      <td>4.333713</td>\n",
              "      <td>0.971955</td>\n",
              "      <td>0.783568</td>\n",
              "      <td>0.104261</td>\n",
              "      <td>0.135120</td>\n",
              "      <td>0.106398</td>\n",
              "      <td>0.016931</td>\n",
              "      <td>0.266667</td>\n",
              "      <td>0.712812</td>\n",
              "      <td>0.007812</td>\n",
              "      <td>5.484375</td>\n",
              "      <td>5.476562</td>\n",
              "      <td>0.208274</td>\n",
              "      <td>male</td>\n",
              "    </tr>\n",
              "    <tr>\n",
              "      <th>...</th>\n",
              "      <td>...</td>\n",
              "      <td>...</td>\n",
              "      <td>...</td>\n",
              "      <td>...</td>\n",
              "      <td>...</td>\n",
              "      <td>...</td>\n",
              "      <td>...</td>\n",
              "      <td>...</td>\n",
              "      <td>...</td>\n",
              "      <td>...</td>\n",
              "      <td>...</td>\n",
              "      <td>...</td>\n",
              "      <td>...</td>\n",
              "      <td>...</td>\n",
              "      <td>...</td>\n",
              "      <td>...</td>\n",
              "      <td>...</td>\n",
              "      <td>...</td>\n",
              "      <td>...</td>\n",
              "      <td>...</td>\n",
              "      <td>...</td>\n",
              "    </tr>\n",
              "    <tr>\n",
              "      <th>3163</th>\n",
              "      <td>0.131884</td>\n",
              "      <td>0.084734</td>\n",
              "      <td>0.153707</td>\n",
              "      <td>0.049285</td>\n",
              "      <td>0.201144</td>\n",
              "      <td>0.151859</td>\n",
              "      <td>1.762129</td>\n",
              "      <td>6.630383</td>\n",
              "      <td>0.962934</td>\n",
              "      <td>0.763182</td>\n",
              "      <td>0.200836</td>\n",
              "      <td>0.131884</td>\n",
              "      <td>0.182790</td>\n",
              "      <td>0.083770</td>\n",
              "      <td>0.262295</td>\n",
              "      <td>0.832899</td>\n",
              "      <td>0.007812</td>\n",
              "      <td>4.210938</td>\n",
              "      <td>4.203125</td>\n",
              "      <td>0.161929</td>\n",
              "      <td>female</td>\n",
              "    </tr>\n",
              "    <tr>\n",
              "      <th>3164</th>\n",
              "      <td>0.116221</td>\n",
              "      <td>0.089221</td>\n",
              "      <td>0.076758</td>\n",
              "      <td>0.042718</td>\n",
              "      <td>0.204911</td>\n",
              "      <td>0.162193</td>\n",
              "      <td>0.693730</td>\n",
              "      <td>2.503954</td>\n",
              "      <td>0.960716</td>\n",
              "      <td>0.709570</td>\n",
              "      <td>0.013683</td>\n",
              "      <td>0.116221</td>\n",
              "      <td>0.188980</td>\n",
              "      <td>0.034409</td>\n",
              "      <td>0.275862</td>\n",
              "      <td>0.909856</td>\n",
              "      <td>0.039062</td>\n",
              "      <td>3.679688</td>\n",
              "      <td>3.640625</td>\n",
              "      <td>0.277897</td>\n",
              "      <td>female</td>\n",
              "    </tr>\n",
              "    <tr>\n",
              "      <th>3165</th>\n",
              "      <td>0.142056</td>\n",
              "      <td>0.095798</td>\n",
              "      <td>0.183731</td>\n",
              "      <td>0.033424</td>\n",
              "      <td>0.224360</td>\n",
              "      <td>0.190936</td>\n",
              "      <td>1.876502</td>\n",
              "      <td>6.604509</td>\n",
              "      <td>0.946854</td>\n",
              "      <td>0.654196</td>\n",
              "      <td>0.008006</td>\n",
              "      <td>0.142056</td>\n",
              "      <td>0.209918</td>\n",
              "      <td>0.039506</td>\n",
              "      <td>0.275862</td>\n",
              "      <td>0.494271</td>\n",
              "      <td>0.007812</td>\n",
              "      <td>2.937500</td>\n",
              "      <td>2.929688</td>\n",
              "      <td>0.194759</td>\n",
              "      <td>female</td>\n",
              "    </tr>\n",
              "    <tr>\n",
              "      <th>3166</th>\n",
              "      <td>0.143659</td>\n",
              "      <td>0.090628</td>\n",
              "      <td>0.184976</td>\n",
              "      <td>0.043508</td>\n",
              "      <td>0.219943</td>\n",
              "      <td>0.176435</td>\n",
              "      <td>1.591065</td>\n",
              "      <td>5.388298</td>\n",
              "      <td>0.950436</td>\n",
              "      <td>0.675470</td>\n",
              "      <td>0.212202</td>\n",
              "      <td>0.143659</td>\n",
              "      <td>0.172375</td>\n",
              "      <td>0.034483</td>\n",
              "      <td>0.250000</td>\n",
              "      <td>0.791360</td>\n",
              "      <td>0.007812</td>\n",
              "      <td>3.593750</td>\n",
              "      <td>3.585938</td>\n",
              "      <td>0.311002</td>\n",
              "      <td>female</td>\n",
              "    </tr>\n",
              "    <tr>\n",
              "      <th>3167</th>\n",
              "      <td>0.165509</td>\n",
              "      <td>0.092884</td>\n",
              "      <td>0.183044</td>\n",
              "      <td>0.070072</td>\n",
              "      <td>0.250827</td>\n",
              "      <td>0.180756</td>\n",
              "      <td>1.705029</td>\n",
              "      <td>5.769115</td>\n",
              "      <td>0.938829</td>\n",
              "      <td>0.601529</td>\n",
              "      <td>0.267702</td>\n",
              "      <td>0.165509</td>\n",
              "      <td>0.185607</td>\n",
              "      <td>0.062257</td>\n",
              "      <td>0.271186</td>\n",
              "      <td>0.227022</td>\n",
              "      <td>0.007812</td>\n",
              "      <td>0.554688</td>\n",
              "      <td>0.546875</td>\n",
              "      <td>0.350000</td>\n",
              "      <td>female</td>\n",
              "    </tr>\n",
              "  </tbody>\n",
              "</table>\n",
              "<p>3168 rows × 21 columns</p>\n",
              "</div>"
            ],
            "text/plain": [
              "      meanfreq        sd    median  ...   dfrange   modindx   label\n",
              "0     0.059781  0.064241  0.032027  ...  0.000000  0.000000    male\n",
              "1     0.066009  0.067310  0.040229  ...  0.046875  0.052632    male\n",
              "2     0.077316  0.083829  0.036718  ...  0.007812  0.046512    male\n",
              "3     0.151228  0.072111  0.158011  ...  0.554688  0.247119    male\n",
              "4     0.135120  0.079146  0.124656  ...  5.476562  0.208274    male\n",
              "...        ...       ...       ...  ...       ...       ...     ...\n",
              "3163  0.131884  0.084734  0.153707  ...  4.203125  0.161929  female\n",
              "3164  0.116221  0.089221  0.076758  ...  3.640625  0.277897  female\n",
              "3165  0.142056  0.095798  0.183731  ...  2.929688  0.194759  female\n",
              "3166  0.143659  0.090628  0.184976  ...  3.585938  0.311002  female\n",
              "3167  0.165509  0.092884  0.183044  ...  0.546875  0.350000  female\n",
              "\n",
              "[3168 rows x 21 columns]"
            ]
          },
          "metadata": {
            "tags": []
          },
          "execution_count": 4
        }
      ]
    },
    {
      "cell_type": "code",
      "metadata": {
        "colab": {
          "base_uri": "https://localhost:8080/",
          "height": 0
        },
        "id": "iIVBD9e3b7mQ",
        "outputId": "4d796814-6b16-4eee-d746-df9c9fef8ac8"
      },
      "source": [
        "df.isna().sum()"
      ],
      "execution_count": 5,
      "outputs": [
        {
          "output_type": "execute_result",
          "data": {
            "text/plain": [
              "meanfreq    0\n",
              "sd          0\n",
              "median      0\n",
              "Q25         0\n",
              "Q75         0\n",
              "IQR         0\n",
              "skew        0\n",
              "kurt        0\n",
              "sp.ent      0\n",
              "sfm         0\n",
              "mode        0\n",
              "centroid    0\n",
              "meanfun     0\n",
              "minfun      0\n",
              "maxfun      0\n",
              "meandom     0\n",
              "mindom      0\n",
              "maxdom      0\n",
              "dfrange     0\n",
              "modindx     0\n",
              "label       0\n",
              "dtype: int64"
            ]
          },
          "metadata": {
            "tags": []
          },
          "execution_count": 5
        }
      ]
    },
    {
      "cell_type": "markdown",
      "metadata": {
        "id": "ycoJ8CQXr4X6"
      },
      "source": [
        "NO Null values"
      ]
    },
    {
      "cell_type": "code",
      "metadata": {
        "colab": {
          "base_uri": "https://localhost:8080/",
          "height": 0
        },
        "id": "-XuRUwpucCLf",
        "outputId": "26697b88-975e-4458-d5dc-ebef9bfb089e"
      },
      "source": [
        "df.dtypes"
      ],
      "execution_count": 7,
      "outputs": [
        {
          "output_type": "execute_result",
          "data": {
            "text/plain": [
              "meanfreq    float64\n",
              "sd          float64\n",
              "median      float64\n",
              "Q25         float64\n",
              "Q75         float64\n",
              "IQR         float64\n",
              "skew        float64\n",
              "kurt        float64\n",
              "sp.ent      float64\n",
              "sfm         float64\n",
              "mode        float64\n",
              "centroid    float64\n",
              "meanfun     float64\n",
              "minfun      float64\n",
              "maxfun      float64\n",
              "meandom     float64\n",
              "mindom      float64\n",
              "maxdom      float64\n",
              "dfrange     float64\n",
              "modindx     float64\n",
              "label        object\n",
              "dtype: object"
            ]
          },
          "metadata": {
            "tags": []
          },
          "execution_count": 7
        }
      ]
    },
    {
      "cell_type": "code",
      "metadata": {
        "colab": {
          "base_uri": "https://localhost:8080/",
          "height": 0
        },
        "id": "sG8EjYlSgnEb",
        "outputId": "282d9f3d-a401-4217-d659-8bd7e83c6f62"
      },
      "source": [
        "df[\"label\"]=df[\"label\"].replace('male',1)\n",
        "df[\"label\"]=df[\"label\"].replace('female',2)\n",
        "df[\"label\"].unique()"
      ],
      "execution_count": 8,
      "outputs": [
        {
          "output_type": "execute_result",
          "data": {
            "text/plain": [
              "array([1, 2])"
            ]
          },
          "metadata": {
            "tags": []
          },
          "execution_count": 8
        }
      ]
    },
    {
      "cell_type": "code",
      "metadata": {
        "colab": {
          "base_uri": "https://localhost:8080/",
          "height": 0
        },
        "id": "5hD1bfrdg-nu",
        "outputId": "3c5cce81-2b49-4f74-9eb0-14e95505df84"
      },
      "source": [
        "df.dtypes"
      ],
      "execution_count": 9,
      "outputs": [
        {
          "output_type": "execute_result",
          "data": {
            "text/plain": [
              "meanfreq    float64\n",
              "sd          float64\n",
              "median      float64\n",
              "Q25         float64\n",
              "Q75         float64\n",
              "IQR         float64\n",
              "skew        float64\n",
              "kurt        float64\n",
              "sp.ent      float64\n",
              "sfm         float64\n",
              "mode        float64\n",
              "centroid    float64\n",
              "meanfun     float64\n",
              "minfun      float64\n",
              "maxfun      float64\n",
              "meandom     float64\n",
              "mindom      float64\n",
              "maxdom      float64\n",
              "dfrange     float64\n",
              "modindx     float64\n",
              "label         int64\n",
              "dtype: object"
            ]
          },
          "metadata": {
            "tags": []
          },
          "execution_count": 9
        }
      ]
    },
    {
      "cell_type": "code",
      "metadata": {
        "colab": {
          "base_uri": "https://localhost:8080/",
          "height": 913
        },
        "id": "rArDMAbhhBS3",
        "outputId": "c8fb4e17-77ad-47fc-bf4b-fe5d0fa388ab"
      },
      "source": [
        "c=list(df)\n",
        "fig=plt.figure(figsize=(15,15))\n",
        "ax=fig.gca()\n",
        "df[c].hist(ax=ax)\n",
        "plt.show()"
      ],
      "execution_count": 12,
      "outputs": [
        {
          "output_type": "stream",
          "text": [
            "/usr/local/lib/python3.6/dist-packages/ipykernel_launcher.py:4: UserWarning: To output multiple subplots, the figure containing the passed axes is being cleared\n",
            "  after removing the cwd from sys.path.\n"
          ],
          "name": "stderr"
        },
        {
          "output_type": "display_data",
          "data": {
            "image/png": "[encoded data removed]",
            "text/plain": [
              "<Figure size 1080x1080 with 25 Axes>"
            ]
          },
          "metadata": {
            "tags": [],
            "needs_background": "light"
          }
        }
      ]
    },
    {
      "cell_type": "markdown",
      "metadata": {
        "id": "WZXjV-bWiQHC"
      },
      "source": [
        "Kurtand skew has most of the values as only one value so removing it will not make any difference in decision making.\n"
      ]
    },
    {
      "cell_type": "markdown",
      "metadata": {
        "id": "eqhuQRAwo1dl"
      },
      "source": [
        "The label data is balanced, so no need for sampling."
      ]
    },
    {
      "cell_type": "code",
      "metadata": {
        "colab": {
          "base_uri": "https://localhost:8080/",
          "height": 439
        },
        "id": "ltzExr4ghy4z",
        "outputId": "6bfb5b12-ffa4-4fef-9187-101b454140b0"
      },
      "source": [
        "df=df.drop([\"kurt\",\"skew\"],axis=1)\n",
        "df"
      ],
      "execution_count": 13,
      "outputs": [
        {
          "output_type": "execute_result",
          "data": {
            "text/html": [
              "<div>\n",
              "<style scoped>\n",
              "    .dataframe tbody tr th:only-of-type {\n",
              "        vertical-align: middle;\n",
              "    }\n",
              "\n",
              "    .dataframe tbody tr th {\n",
              "        vertical-align: top;\n",
              "    }\n",
              "\n",
              "    .dataframe thead th {\n",
              "        text-align: right;\n",
              "    }\n",
              "</style>\n",
              "<table border=\"1\" class=\"dataframe\">\n",
              "  <thead>\n",
              "    <tr style=\"text-align: right;\">\n",
              "      <th></th>\n",
              "      <th>meanfreq</th>\n",
              "      <th>sd</th>\n",
              "      <th>median</th>\n",
              "      <th>Q25</th>\n",
              "      <th>Q75</th>\n",
              "      <th>IQR</th>\n",
              "      <th>sp.ent</th>\n",
              "      <th>sfm</th>\n",
              "      <th>mode</th>\n",
              "      <th>centroid</th>\n",
              "      <th>meanfun</th>\n",
              "      <th>minfun</th>\n",
              "      <th>maxfun</th>\n",
              "      <th>meandom</th>\n",
              "      <th>mindom</th>\n",
              "      <th>maxdom</th>\n",
              "      <th>dfrange</th>\n",
              "      <th>modindx</th>\n",
              "      <th>label</th>\n",
              "    </tr>\n",
              "  </thead>\n",
              "  <tbody>\n",
              "    <tr>\n",
              "      <th>0</th>\n",
              "      <td>0.059781</td>\n",
              "      <td>0.064241</td>\n",
              "      <td>0.032027</td>\n",
              "      <td>0.015071</td>\n",
              "      <td>0.090193</td>\n",
              "      <td>0.075122</td>\n",
              "      <td>0.893369</td>\n",
              "      <td>0.491918</td>\n",
              "      <td>0.000000</td>\n",
              "      <td>0.059781</td>\n",
              "      <td>0.084279</td>\n",
              "      <td>0.015702</td>\n",
              "      <td>0.275862</td>\n",
              "      <td>0.007812</td>\n",
              "      <td>0.007812</td>\n",
              "      <td>0.007812</td>\n",
              "      <td>0.000000</td>\n",
              "      <td>0.000000</td>\n",
              "      <td>1</td>\n",
              "    </tr>\n",
              "    <tr>\n",
              "      <th>1</th>\n",
              "      <td>0.066009</td>\n",
              "      <td>0.067310</td>\n",
              "      <td>0.040229</td>\n",
              "      <td>0.019414</td>\n",
              "      <td>0.092666</td>\n",
              "      <td>0.073252</td>\n",
              "      <td>0.892193</td>\n",
              "      <td>0.513724</td>\n",
              "      <td>0.000000</td>\n",
              "      <td>0.066009</td>\n",
              "      <td>0.107937</td>\n",
              "      <td>0.015826</td>\n",
              "      <td>0.250000</td>\n",
              "      <td>0.009014</td>\n",
              "      <td>0.007812</td>\n",
              "      <td>0.054688</td>\n",
              "      <td>0.046875</td>\n",
              "      <td>0.052632</td>\n",
              "      <td>1</td>\n",
              "    </tr>\n",
              "    <tr>\n",
              "      <th>2</th>\n",
              "      <td>0.077316</td>\n",
              "      <td>0.083829</td>\n",
              "      <td>0.036718</td>\n",
              "      <td>0.008701</td>\n",
              "      <td>0.131908</td>\n",
              "      <td>0.123207</td>\n",
              "      <td>0.846389</td>\n",
              "      <td>0.478905</td>\n",
              "      <td>0.000000</td>\n",
              "      <td>0.077316</td>\n",
              "      <td>0.098706</td>\n",
              "      <td>0.015656</td>\n",
              "      <td>0.271186</td>\n",
              "      <td>0.007990</td>\n",
              "      <td>0.007812</td>\n",
              "      <td>0.015625</td>\n",
              "      <td>0.007812</td>\n",
              "      <td>0.046512</td>\n",
              "      <td>1</td>\n",
              "    </tr>\n",
              "    <tr>\n",
              "      <th>3</th>\n",
              "      <td>0.151228</td>\n",
              "      <td>0.072111</td>\n",
              "      <td>0.158011</td>\n",
              "      <td>0.096582</td>\n",
              "      <td>0.207955</td>\n",
              "      <td>0.111374</td>\n",
              "      <td>0.963322</td>\n",
              "      <td>0.727232</td>\n",
              "      <td>0.083878</td>\n",
              "      <td>0.151228</td>\n",
              "      <td>0.088965</td>\n",
              "      <td>0.017798</td>\n",
              "      <td>0.250000</td>\n",
              "      <td>0.201497</td>\n",
              "      <td>0.007812</td>\n",
              "      <td>0.562500</td>\n",
              "      <td>0.554688</td>\n",
              "      <td>0.247119</td>\n",
              "      <td>1</td>\n",
              "    </tr>\n",
              "    <tr>\n",
              "      <th>4</th>\n",
              "      <td>0.135120</td>\n",
              "      <td>0.079146</td>\n",
              "      <td>0.124656</td>\n",
              "      <td>0.078720</td>\n",
              "      <td>0.206045</td>\n",
              "      <td>0.127325</td>\n",
              "      <td>0.971955</td>\n",
              "      <td>0.783568</td>\n",
              "      <td>0.104261</td>\n",
              "      <td>0.135120</td>\n",
              "      <td>0.106398</td>\n",
              "      <td>0.016931</td>\n",
              "      <td>0.266667</td>\n",
              "      <td>0.712812</td>\n",
              "      <td>0.007812</td>\n",
              "      <td>5.484375</td>\n",
              "      <td>5.476562</td>\n",
              "      <td>0.208274</td>\n",
              "      <td>1</td>\n",
              "    </tr>\n",
              "    <tr>\n",
              "      <th>...</th>\n",
              "      <td>...</td>\n",
              "      <td>...</td>\n",
              "      <td>...</td>\n",
              "      <td>...</td>\n",
              "      <td>...</td>\n",
              "      <td>...</td>\n",
              "      <td>...</td>\n",
              "      <td>...</td>\n",
              "      <td>...</td>\n",
              "      <td>...</td>\n",
              "      <td>...</td>\n",
              "      <td>...</td>\n",
              "      <td>...</td>\n",
              "      <td>...</td>\n",
              "      <td>...</td>\n",
              "      <td>...</td>\n",
              "      <td>...</td>\n",
              "      <td>...</td>\n",
              "      <td>...</td>\n",
              "    </tr>\n",
              "    <tr>\n",
              "      <th>3163</th>\n",
              "      <td>0.131884</td>\n",
              "      <td>0.084734</td>\n",
              "      <td>0.153707</td>\n",
              "      <td>0.049285</td>\n",
              "      <td>0.201144</td>\n",
              "      <td>0.151859</td>\n",
              "      <td>0.962934</td>\n",
              "      <td>0.763182</td>\n",
              "      <td>0.200836</td>\n",
              "      <td>0.131884</td>\n",
              "      <td>0.182790</td>\n",
              "      <td>0.083770</td>\n",
              "      <td>0.262295</td>\n",
              "      <td>0.832899</td>\n",
              "      <td>0.007812</td>\n",
              "      <td>4.210938</td>\n",
              "      <td>4.203125</td>\n",
              "      <td>0.161929</td>\n",
              "      <td>2</td>\n",
              "    </tr>\n",
              "    <tr>\n",
              "      <th>3164</th>\n",
              "      <td>0.116221</td>\n",
              "      <td>0.089221</td>\n",
              "      <td>0.076758</td>\n",
              "      <td>0.042718</td>\n",
              "      <td>0.204911</td>\n",
              "      <td>0.162193</td>\n",
              "      <td>0.960716</td>\n",
              "      <td>0.709570</td>\n",
              "      <td>0.013683</td>\n",
              "      <td>0.116221</td>\n",
              "      <td>0.188980</td>\n",
              "      <td>0.034409</td>\n",
              "      <td>0.275862</td>\n",
              "      <td>0.909856</td>\n",
              "      <td>0.039062</td>\n",
              "      <td>3.679688</td>\n",
              "      <td>3.640625</td>\n",
              "      <td>0.277897</td>\n",
              "      <td>2</td>\n",
              "    </tr>\n",
              "    <tr>\n",
              "      <th>3165</th>\n",
              "      <td>0.142056</td>\n",
              "      <td>0.095798</td>\n",
              "      <td>0.183731</td>\n",
              "      <td>0.033424</td>\n",
              "      <td>0.224360</td>\n",
              "      <td>0.190936</td>\n",
              "      <td>0.946854</td>\n",
              "      <td>0.654196</td>\n",
              "      <td>0.008006</td>\n",
              "      <td>0.142056</td>\n",
              "      <td>0.209918</td>\n",
              "      <td>0.039506</td>\n",
              "      <td>0.275862</td>\n",
              "      <td>0.494271</td>\n",
              "      <td>0.007812</td>\n",
              "      <td>2.937500</td>\n",
              "      <td>2.929688</td>\n",
              "      <td>0.194759</td>\n",
              "      <td>2</td>\n",
              "    </tr>\n",
              "    <tr>\n",
              "      <th>3166</th>\n",
              "      <td>0.143659</td>\n",
              "      <td>0.090628</td>\n",
              "      <td>0.184976</td>\n",
              "      <td>0.043508</td>\n",
              "      <td>0.219943</td>\n",
              "      <td>0.176435</td>\n",
              "      <td>0.950436</td>\n",
              "      <td>0.675470</td>\n",
              "      <td>0.212202</td>\n",
              "      <td>0.143659</td>\n",
              "      <td>0.172375</td>\n",
              "      <td>0.034483</td>\n",
              "      <td>0.250000</td>\n",
              "      <td>0.791360</td>\n",
              "      <td>0.007812</td>\n",
              "      <td>3.593750</td>\n",
              "      <td>3.585938</td>\n",
              "      <td>0.311002</td>\n",
              "      <td>2</td>\n",
              "    </tr>\n",
              "    <tr>\n",
              "      <th>3167</th>\n",
              "      <td>0.165509</td>\n",
              "      <td>0.092884</td>\n",
              "      <td>0.183044</td>\n",
              "      <td>0.070072</td>\n",
              "      <td>0.250827</td>\n",
              "      <td>0.180756</td>\n",
              "      <td>0.938829</td>\n",
              "      <td>0.601529</td>\n",
              "      <td>0.267702</td>\n",
              "      <td>0.165509</td>\n",
              "      <td>0.185607</td>\n",
              "      <td>0.062257</td>\n",
              "      <td>0.271186</td>\n",
              "      <td>0.227022</td>\n",
              "      <td>0.007812</td>\n",
              "      <td>0.554688</td>\n",
              "      <td>0.546875</td>\n",
              "      <td>0.350000</td>\n",
              "      <td>2</td>\n",
              "    </tr>\n",
              "  </tbody>\n",
              "</table>\n",
              "<p>3168 rows × 19 columns</p>\n",
              "</div>"
            ],
            "text/plain": [
              "      meanfreq        sd    median  ...   dfrange   modindx  label\n",
              "0     0.059781  0.064241  0.032027  ...  0.000000  0.000000      1\n",
              "1     0.066009  0.067310  0.040229  ...  0.046875  0.052632      1\n",
              "2     0.077316  0.083829  0.036718  ...  0.007812  0.046512      1\n",
              "3     0.151228  0.072111  0.158011  ...  0.554688  0.247119      1\n",
              "4     0.135120  0.079146  0.124656  ...  5.476562  0.208274      1\n",
              "...        ...       ...       ...  ...       ...       ...    ...\n",
              "3163  0.131884  0.084734  0.153707  ...  4.203125  0.161929      2\n",
              "3164  0.116221  0.089221  0.076758  ...  3.640625  0.277897      2\n",
              "3165  0.142056  0.095798  0.183731  ...  2.929688  0.194759      2\n",
              "3166  0.143659  0.090628  0.184976  ...  3.585938  0.311002      2\n",
              "3167  0.165509  0.092884  0.183044  ...  0.546875  0.350000      2\n",
              "\n",
              "[3168 rows x 19 columns]"
            ]
          },
          "metadata": {
            "tags": []
          },
          "execution_count": 13
        }
      ]
    },
    {
      "cell_type": "code",
      "metadata": {
        "colab": {
          "base_uri": "https://localhost:8080/",
          "height": 880
        },
        "id": "0OHYuAxAi3dE",
        "outputId": "1167b29f-c9b0-4f0a-fa55-6d1888c3d598"
      },
      "source": [
        "import seaborn as sns\n",
        "ax=plt.figure(figsize=(15,15))\n",
        "sns.boxplot(data=df)"
      ],
      "execution_count": 20,
      "outputs": [
        {
          "output_type": "execute_result",
          "data": {
            "text/plain": [
              "<matplotlib.axes._subplots.AxesSubplot at 0x7f36455f20b8>"
            ]
          },
          "metadata": {
            "tags": []
          },
          "execution_count": 20
        },
        {
          "output_type": "display_data",
          "data": {
            "image/png": "[encoded data removed]",
            "text/plain": [
              "<Figure size 1080x1080 with 1 Axes>"
            ]
          },
          "metadata": {
            "tags": [],
            "needs_background": "light"
          }
        }
      ]
    },
    {
      "cell_type": "code",
      "metadata": {
        "colab": {
          "base_uri": "https://localhost:8080/",
          "height": 880
        },
        "id": "1OUI4OGSjYdU",
        "outputId": "4afb4df5-d176-4732-b082-c01a04dbdcea"
      },
      "source": [
        "df_norm = (df - df.min()) / (df.max() - df.min())\n",
        "ax=plt.figure(figsize=(15,15))\n",
        "sns.boxplot(data=df_norm) # boxplot for normalized data"
      ],
      "execution_count": 21,
      "outputs": [
        {
          "output_type": "execute_result",
          "data": {
            "text/plain": [
              "<matplotlib.axes._subplots.AxesSubplot at 0x7f36457f9898>"
            ]
          },
          "metadata": {
            "tags": []
          },
          "execution_count": 21
        },
        {
          "output_type": "display_data",
          "data": {
            "image/png": "[encoded data removed]",
            "text/plain": [
              "<Figure size 1080x1080 with 1 Axes>"
            ]
          },
          "metadata": {
            "tags": [],
            "needs_background": "light"
          }
        }
      ]
    },
    {
      "cell_type": "code",
      "metadata": {
        "id": "peT3rp9LmAWD"
      },
      "source": [
        "cols = [col for col in df.columns if col not in [\"label\"]]\n",
        "X = df[cols]\n",
        "y = df[\"label\"]"
      ],
      "execution_count": 22,
      "outputs": []
    },
    {
      "cell_type": "code",
      "metadata": {
        "id": "vCbpg8u2k4c5"
      },
      "source": [
        "from sklearn.model_selection import train_test_split\n",
        "X_train, X_test, y_train, y_test = train_test_split(X, y, test_size=0.2)"
      ],
      "execution_count": 23,
      "outputs": []
    },
    {
      "cell_type": "markdown",
      "metadata": {
        "id": "1hhVXq_BpEEx"
      },
      "source": [
        "##### Logistic"
      ]
    },
    {
      "cell_type": "code",
      "metadata": {
        "colab": {
          "base_uri": "https://localhost:8080/",
          "height": 0
        },
        "id": "pM0uV64BmHzk",
        "outputId": "aaf62f33-3f35-426c-d40d-16ee0eeacd99"
      },
      "source": [
        "from sklearn.linear_model import LogisticRegression\n",
        "clf = LogisticRegression(random_state=0).fit(X_train, y_train)"
      ],
      "execution_count": 24,
      "outputs": [
        {
          "output_type": "stream",
          "text": [
            "/usr/local/lib/python3.6/dist-packages/sklearn/linear_model/_logistic.py:940: ConvergenceWarning: lbfgs failed to converge (status=1):\n",
            "STOP: TOTAL NO. of ITERATIONS REACHED LIMIT.\n",
            "\n",
            "Increase the number of iterations (max_iter) or scale the data as shown in:\n",
            "    https://scikit-learn.org/stable/modules/preprocessing.html\n",
            "Please also refer to the documentation for alternative solver options:\n",
            "    https://scikit-learn.org/stable/modules/linear_model.html#logistic-regression\n",
            "  extra_warning_msg=_LOGISTIC_SOLVER_CONVERGENCE_MSG)\n"
          ],
          "name": "stderr"
        }
      ]
    },
    {
      "cell_type": "code",
      "metadata": {
        "id": "W_r1OoecnCa6"
      },
      "source": [
        "from sklearn.metrics import classification_report\n",
        "p_train = clf.predict(X_train)\n",
        "p_test = clf.predict(X_test)"
      ],
      "execution_count": 25,
      "outputs": []
    },
    {
      "cell_type": "code",
      "metadata": {
        "colab": {
          "base_uri": "https://localhost:8080/",
          "height": 0
        },
        "id": "7idu0HT_nUly",
        "outputId": "6c02a2af-6403-4ac2-a045-0b7775123d9d"
      },
      "source": [
        "print(classification_report(y_train, p_train, target_names=[\"male\",\"female\"])) # report on train data"
      ],
      "execution_count": 27,
      "outputs": [
        {
          "output_type": "stream",
          "text": [
            "              precision    recall  f1-score   support\n",
            "\n",
            "        male       0.87      0.98      0.92      1279\n",
            "      female       0.97      0.85      0.90      1255\n",
            "\n",
            "    accuracy                           0.91      2534\n",
            "   macro avg       0.92      0.91      0.91      2534\n",
            "weighted avg       0.92      0.91      0.91      2534\n",
            "\n"
          ],
          "name": "stdout"
        }
      ]
    },
    {
      "cell_type": "code",
      "metadata": {
        "colab": {
          "base_uri": "https://localhost:8080/",
          "height": 0
        },
        "id": "C_gu_mwsnjnx",
        "outputId": "6a606ce7-0bbb-4eeb-e2e5-d87804b043cc"
      },
      "source": [
        "print(classification_report(y_test, p_test, target_names=[\"male\",\"female\"])) # report on test data"
      ],
      "execution_count": 28,
      "outputs": [
        {
          "output_type": "stream",
          "text": [
            "              precision    recall  f1-score   support\n",
            "\n",
            "        male       0.83      0.98      0.90       305\n",
            "      female       0.97      0.82      0.89       329\n",
            "\n",
            "    accuracy                           0.90       634\n",
            "   macro avg       0.90      0.90      0.90       634\n",
            "weighted avg       0.91      0.90      0.90       634\n",
            "\n"
          ],
          "name": "stdout"
        }
      ]
    },
    {
      "cell_type": "code",
      "metadata": {
        "colab": {
          "base_uri": "https://localhost:8080/",
          "height": 0
        },
        "id": "3zz234Q4npcA",
        "outputId": "232b97a9-f2ff-4ccb-8b7f-e377b5ee66aa"
      },
      "source": [
        "from sklearn.metrics import confusion_matrix\n",
        "confm=confusion_matrix(y_test, p_test, labels=[1,2]) # confusion matrix on test data\n",
        "confm"
      ],
      "execution_count": 31,
      "outputs": [
        {
          "output_type": "execute_result",
          "data": {
            "text/plain": [
              "array([[298,   7],\n",
              "       [ 59, 270]])"
            ]
          },
          "metadata": {
            "tags": []
          },
          "execution_count": 31
        }
      ]
    },
    {
      "cell_type": "markdown",
      "metadata": {
        "id": "7a0pytZWn_Ay"
      },
      "source": [
        "There is less variance in the model"
      ]
    },
    {
      "cell_type": "markdown",
      "metadata": {
        "id": "XyFYlGy9pAfT"
      },
      "source": [
        "#### SVM"
      ]
    },
    {
      "cell_type": "code",
      "metadata": {
        "colab": {
          "base_uri": "https://localhost:8080/",
          "height": 0
        },
        "id": "uwLmT7KJnxzO",
        "outputId": "12ebecc8-281d-4d54-8f35-f64a8853daa6"
      },
      "source": [
        "from sklearn.svm import SVC\n",
        "from sklearn.model_selection import GridSearchCV\n",
        "param_grid = {'C' : [0.01, 0.1, 1, 10], 'kernel': ('rbf', 'linear')}\n",
        "classifier = SVC()\n",
        "grid_search = GridSearchCV(estimator=classifier, param_grid=param_grid, scoring='accuracy', n_jobs=-1, verbose=42)\n",
        "grid_search.fit(X_train,y_train)"
      ],
      "execution_count": 33,
      "outputs": [
        {
          "output_type": "stream",
          "text": [
            "Fitting 5 folds for each of 8 candidates, totalling 40 fits\n"
          ],
          "name": "stdout"
        },
        {
          "output_type": "stream",
          "text": [
            "[Parallel(n_jobs=-1)]: Using backend LokyBackend with 2 concurrent workers.\n",
            "[Parallel(n_jobs=-1)]: Done   1 tasks      | elapsed:    1.7s\n",
            "[Parallel(n_jobs=-1)]: Done   2 tasks      | elapsed:    1.7s\n",
            "[Parallel(n_jobs=-1)]: Done   3 tasks      | elapsed:    2.2s\n",
            "[Parallel(n_jobs=-1)]: Done   4 tasks      | elapsed:    2.2s\n",
            "[Parallel(n_jobs=-1)]: Done   5 tasks      | elapsed:    2.4s\n",
            "[Parallel(n_jobs=-1)]: Done   6 tasks      | elapsed:    2.6s\n",
            "[Parallel(n_jobs=-1)]: Done   7 tasks      | elapsed:    2.6s\n",
            "[Parallel(n_jobs=-1)]: Done   8 tasks      | elapsed:    2.8s\n",
            "[Parallel(n_jobs=-1)]: Done   9 tasks      | elapsed:    2.9s\n",
            "[Parallel(n_jobs=-1)]: Done  10 tasks      | elapsed:    3.0s\n",
            "[Parallel(n_jobs=-1)]: Done  11 tasks      | elapsed:    3.3s\n",
            "[Parallel(n_jobs=-1)]: Done  12 tasks      | elapsed:    3.4s\n",
            "[Parallel(n_jobs=-1)]: Done  13 tasks      | elapsed:    3.6s\n",
            "[Parallel(n_jobs=-1)]: Done  14 tasks      | elapsed:    3.8s\n",
            "[Parallel(n_jobs=-1)]: Done  15 tasks      | elapsed:    4.0s\n",
            "[Parallel(n_jobs=-1)]: Done  16 tasks      | elapsed:    4.1s\n",
            "[Parallel(n_jobs=-1)]: Done  17 tasks      | elapsed:    4.3s\n",
            "[Parallel(n_jobs=-1)]: Done  18 tasks      | elapsed:    4.4s\n",
            "[Parallel(n_jobs=-1)]: Done  19 tasks      | elapsed:    4.6s\n",
            "[Parallel(n_jobs=-1)]: Done  20 tasks      | elapsed:    4.6s\n",
            "[Parallel(n_jobs=-1)]: Done  21 tasks      | elapsed:    4.9s\n",
            "[Parallel(n_jobs=-1)]: Done  22 tasks      | elapsed:    5.0s\n",
            "[Parallel(n_jobs=-1)]: Done  23 tasks      | elapsed:    5.3s\n",
            "[Parallel(n_jobs=-1)]: Done  24 tasks      | elapsed:    5.4s\n",
            "[Parallel(n_jobs=-1)]: Done  25 tasks      | elapsed:    5.7s\n",
            "[Parallel(n_jobs=-1)]: Done  26 tasks      | elapsed:    5.8s\n",
            "[Parallel(n_jobs=-1)]: Done  27 tasks      | elapsed:    6.1s\n",
            "[Parallel(n_jobs=-1)]: Done  28 tasks      | elapsed:    6.3s\n",
            "[Parallel(n_jobs=-1)]: Done  29 tasks      | elapsed:    6.5s\n",
            "[Parallel(n_jobs=-1)]: Done  30 tasks      | elapsed:    6.8s\n",
            "[Parallel(n_jobs=-1)]: Done  31 tasks      | elapsed:    6.9s\n",
            "[Parallel(n_jobs=-1)]: Done  32 tasks      | elapsed:    7.1s\n",
            "[Parallel(n_jobs=-1)]: Done  33 tasks      | elapsed:    7.2s\n",
            "[Parallel(n_jobs=-1)]: Done  34 tasks      | elapsed:    7.5s\n",
            "[Parallel(n_jobs=-1)]: Done  35 tasks      | elapsed:    7.6s\n",
            "[Parallel(n_jobs=-1)]: Done  36 tasks      | elapsed:    8.2s\n",
            "[Parallel(n_jobs=-1)]: Done  37 tasks      | elapsed:    8.2s\n",
            "[Parallel(n_jobs=-1)]: Done  38 out of  40 | elapsed:    8.9s remaining:    0.5s\n",
            "[Parallel(n_jobs=-1)]: Done  40 out of  40 | elapsed:    9.3s remaining:    0.0s\n",
            "[Parallel(n_jobs=-1)]: Done  40 out of  40 | elapsed:    9.3s finished\n"
          ],
          "name": "stderr"
        },
        {
          "output_type": "execute_result",
          "data": {
            "text/plain": [
              "GridSearchCV(cv=None, error_score=nan,\n",
              "             estimator=SVC(C=1.0, break_ties=False, cache_size=200,\n",
              "                           class_weight=None, coef0=0.0,\n",
              "                           decision_function_shape='ovr', degree=3,\n",
              "                           gamma='scale', kernel='rbf', max_iter=-1,\n",
              "                           probability=False, random_state=None, shrinking=True,\n",
              "                           tol=0.001, verbose=False),\n",
              "             iid='deprecated', n_jobs=-1,\n",
              "             param_grid={'C': [0.01, 0.1, 1, 10], 'kernel': ('rbf', 'linear')},\n",
              "             pre_dispatch='2*n_jobs', refit=True, return_train_score=False,\n",
              "             scoring='accuracy', verbose=42)"
            ]
          },
          "metadata": {
            "tags": []
          },
          "execution_count": 33
        }
      ]
    },
    {
      "cell_type": "code",
      "metadata": {
        "id": "t-KQpT_zpWpx"
      },
      "source": [
        "p_train = grid_search.predict(X_train)\n",
        "p_test = grid_search.predict(X_test)"
      ],
      "execution_count": 34,
      "outputs": []
    },
    {
      "cell_type": "code",
      "metadata": {
        "colab": {
          "base_uri": "https://localhost:8080/",
          "height": 0
        },
        "id": "PU0_hF7rqA7b",
        "outputId": "1cca330d-2966-4ac7-a548-327161f21e85"
      },
      "source": [
        "print(classification_report(y_train, p_train, target_names=[\"male\",\"female\"])) # report on train data"
      ],
      "execution_count": 35,
      "outputs": [
        {
          "output_type": "stream",
          "text": [
            "              precision    recall  f1-score   support\n",
            "\n",
            "        male       0.96      0.98      0.97      1279\n",
            "      female       0.98      0.96      0.97      1255\n",
            "\n",
            "    accuracy                           0.97      2534\n",
            "   macro avg       0.97      0.97      0.97      2534\n",
            "weighted avg       0.97      0.97      0.97      2534\n",
            "\n"
          ],
          "name": "stdout"
        }
      ]
    },
    {
      "cell_type": "code",
      "metadata": {
        "colab": {
          "base_uri": "https://localhost:8080/",
          "height": 0
        },
        "id": "WYxy7s0GqEqv",
        "outputId": "b9c8bf3b-774c-4ca1-8e4b-7291eff4a289"
      },
      "source": [
        "print(classification_report(y_test, p_test, target_names=[\"male\",\"female\"])) # report on test data"
      ],
      "execution_count": 36,
      "outputs": [
        {
          "output_type": "stream",
          "text": [
            "              precision    recall  f1-score   support\n",
            "\n",
            "        male       0.96      0.96      0.96       305\n",
            "      female       0.97      0.97      0.97       329\n",
            "\n",
            "    accuracy                           0.97       634\n",
            "   macro avg       0.97      0.97      0.97       634\n",
            "weighted avg       0.97      0.97      0.97       634\n",
            "\n"
          ],
          "name": "stdout"
        }
      ]
    },
    {
      "cell_type": "code",
      "metadata": {
        "colab": {
          "base_uri": "https://localhost:8080/",
          "height": 0
        },
        "id": "LWr92R1GqIiR",
        "outputId": "abc0c559-db59-4502-9c02-13ed12f30794"
      },
      "source": [
        "from sklearn.metrics import confusion_matrix\n",
        "confm=confusion_matrix(y_test, p_test, labels=[1,2]) # confusion matrix on test data\n",
        "confm"
      ],
      "execution_count": 37,
      "outputs": [
        {
          "output_type": "execute_result",
          "data": {
            "text/plain": [
              "array([[294,  11],\n",
              "       [ 11, 318]])"
            ]
          },
          "metadata": {
            "tags": []
          },
          "execution_count": 37
        }
      ]
    },
    {
      "cell_type": "markdown",
      "metadata": {
        "id": "3JwKlC7uqQ_q"
      },
      "source": [
        "The error has redused and the accuracy increased in both classes. The model has better bias and variance scores than Logistic regression."
      ]
    },
    {
      "cell_type": "code",
      "metadata": {
        "id": "8LJs3nvKqfdV"
      },
      "source": [
        ""
      ],
      "execution_count": null,
      "outputs": []
    }
  ]
}