{
 "cells": [
  {
   "cell_type": "markdown",
   "metadata": {
    "papermill": {
     "duration": 0.037621,
     "end_time": "2020-10-16T17:13:32.026224",
     "exception": false,
     "start_time": "2020-10-16T17:13:31.988603",
     "status": "completed"
    },
    "tags": []
   },
   "source": [
    "###### importing data set from kaggle"
   ]
  },
  {
   "cell_type": "code",
   "execution_count": 1,
   "metadata": {
    "_cell_guid": "b1076dfc-b9ad-4769-8c92-a6c4dae69d19",
    "_uuid": "8f2839f25d086af736a60e9eeb907d3b93b6e0e5",
    "execution": {
     "iopub.execute_input": "2020-10-16T17:13:32.108806Z",
     "iopub.status.busy": "2020-10-16T17:13:32.107988Z",
     "iopub.status.idle": "2020-10-16T17:13:32.113292Z",
     "shell.execute_reply": "2020-10-16T17:13:32.112525Z"
    },
    "papermill": {
     "duration": 0.049115,
     "end_time": "2020-10-16T17:13:32.113417",
     "exception": false,
     "start_time": "2020-10-16T17:13:32.064302",
     "status": "completed"
    },
    "tags": []
   },
   "outputs": [
    {
     "name": "stdout",
     "output_type": "stream",
     "text": [
      "/kaggle/input/titanic/gender_submission.csv\n",
      "/kaggle/input/titanic/test.csv\n",
      "/kaggle/input/titanic/train.csv\n"
     ]
    }
   ],
   "source": [
    "# This Python 3 environment comes with many helpful analytics libraries installed\n",
    "# It is defined by the kaggle/python Docker image: https://github.com/kaggle/docker-python\n",
    "# For example, here's several helpful packages to load\n",
    "\n",
    "import numpy as np # linear algebra\n",
    "import pandas as pd # data processing, CSV file I/O (e.g. pd.read_csv)\n",
    "\n",
    "# Input data files are available in the read-only \"../input/\" directory\n",
    "# For example, running this (by clicking run or pressing Shift+Enter) will list all files under the input directory\n",
    "\n",
    "import os\n",
    "for dirname, _, filenames in os.walk('/kaggle/input'):\n",
    "    for filename in filenames:\n",
    "        print(os.path.join(dirname, filename))\n",
    "\n",
    "# You can write up to 5GB to the current directory (/kaggle/working/) that gets preserved as output when you create a version using \"Save & Run All\" \n",
    "# You can also write temporary files to /kaggle/temp/, but they won't be saved outside of the current session"
   ]
  },
  {
   "cell_type": "markdown",
   "metadata": {
    "papermill": {
     "duration": 0.036928,
     "end_time": "2020-10-16T17:13:32.188081",
     "exception": false,
     "start_time": "2020-10-16T17:13:32.151153",
     "status": "completed"
    },
    "tags": []
   },
   "source": [
    "###### reading the data set to dataframe"
   ]
  },
  {
   "cell_type": "code",
   "execution_count": 2,
   "metadata": {
    "_cell_guid": "79c7e3d0-c299-4dcb-8224-4455121ee9b0",
    "_uuid": "d629ff2d2480ee46fbb7e2d37f6b5fab8052498a",
    "execution": {
     "iopub.execute_input": "2020-10-16T17:13:32.269057Z",
     "iopub.status.busy": "2020-10-16T17:13:32.268085Z",
     "iopub.status.idle": "2020-10-16T17:13:32.315919Z",
     "shell.execute_reply": "2020-10-16T17:13:32.316506Z"
    },
    "papermill": {
     "duration": 0.091438,
     "end_time": "2020-10-16T17:13:32.316684",
     "exception": false,
     "start_time": "2020-10-16T17:13:32.225246",
     "status": "completed"
    },
    "tags": []
   },
   "outputs": [
    {
     "data": {
      "text/html": [
       "<div>\n",
       "<style scoped>\n",
       "    .dataframe tbody tr th:only-of-type {\n",
       "        vertical-align: middle;\n",
       "    }\n",
       "\n",
       "    .dataframe tbody tr th {\n",
       "        vertical-align: top;\n",
       "    }\n",
       "\n",
       "    .dataframe thead th {\n",
       "        text-align: right;\n",
       "    }\n",
       "</style>\n",
       "<table border=\"1\" class=\"dataframe\">\n",
       "  <thead>\n",
       "    <tr style=\"text-align: right;\">\n",
       "      <th></th>\n",
       "      <th>PassengerId</th>\n",
       "      <th>Survived</th>\n",
       "      <th>Pclass</th>\n",
       "      <th>Name</th>\n",
       "      <th>Sex</th>\n",
       "      <th>Age</th>\n",
       "      <th>SibSp</th>\n",
       "      <th>Parch</th>\n",
       "      <th>Ticket</th>\n",
       "      <th>Fare</th>\n",
       "      <th>Cabin</th>\n",
       "      <th>Embarked</th>\n",
       "    </tr>\n",
       "  </thead>\n",
       "  <tbody>\n",
       "    <tr>\n",
       "      <th>0</th>\n",
       "      <td>1</td>\n",
       "      <td>0</td>\n",
       "      <td>3</td>\n",
       "      <td>Braund, Mr. Owen Harris</td>\n",
       "      <td>male</td>\n",
       "      <td>22.0</td>\n",
       "      <td>1</td>\n",
       "      <td>0</td>\n",
       "      <td>A/5 21171</td>\n",
       "      <td>7.2500</td>\n",
       "      <td>NaN</td>\n",
       "      <td>S</td>\n",
       "    </tr>\n",
       "    <tr>\n",
       "      <th>1</th>\n",
       "      <td>2</td>\n",
       "      <td>1</td>\n",
       "      <td>1</td>\n",
       "      <td>Cumings, Mrs. John Bradley (Florence Briggs Th...</td>\n",
       "      <td>female</td>\n",
       "      <td>38.0</td>\n",
       "      <td>1</td>\n",
       "      <td>0</td>\n",
       "      <td>PC 17599</td>\n",
       "      <td>71.2833</td>\n",
       "      <td>C85</td>\n",
       "      <td>C</td>\n",
       "    </tr>\n",
       "    <tr>\n",
       "      <th>2</th>\n",
       "      <td>3</td>\n",
       "      <td>1</td>\n",
       "      <td>3</td>\n",
       "      <td>Heikkinen, Miss. Laina</td>\n",
       "      <td>female</td>\n",
       "      <td>26.0</td>\n",
       "      <td>0</td>\n",
       "      <td>0</td>\n",
       "      <td>STON/O2. 3101282</td>\n",
       "      <td>7.9250</td>\n",
       "      <td>NaN</td>\n",
       "      <td>S</td>\n",
       "    </tr>\n",
       "    <tr>\n",
       "      <th>3</th>\n",
       "      <td>4</td>\n",
       "      <td>1</td>\n",
       "      <td>1</td>\n",
       "      <td>Futrelle, Mrs. Jacques Heath (Lily May Peel)</td>\n",
       "      <td>female</td>\n",
       "      <td>35.0</td>\n",
       "      <td>1</td>\n",
       "      <td>0</td>\n",
       "      <td>113803</td>\n",
       "      <td>53.1000</td>\n",
       "      <td>C123</td>\n",
       "      <td>S</td>\n",
       "    </tr>\n",
       "    <tr>\n",
       "      <th>4</th>\n",
       "      <td>5</td>\n",
       "      <td>0</td>\n",
       "      <td>3</td>\n",
       "      <td>Allen, Mr. William Henry</td>\n",
       "      <td>male</td>\n",
       "      <td>35.0</td>\n",
       "      <td>0</td>\n",
       "      <td>0</td>\n",
       "      <td>373450</td>\n",
       "      <td>8.0500</td>\n",
       "      <td>NaN</td>\n",
       "      <td>S</td>\n",
       "    </tr>\n",
       "    <tr>\n",
       "      <th>...</th>\n",
       "      <td>...</td>\n",
       "      <td>...</td>\n",
       "      <td>...</td>\n",
       "      <td>...</td>\n",
       "      <td>...</td>\n",
       "      <td>...</td>\n",
       "      <td>...</td>\n",
       "      <td>...</td>\n",
       "      <td>...</td>\n",
       "      <td>...</td>\n",
       "      <td>...</td>\n",
       "      <td>...</td>\n",
       "    </tr>\n",
       "    <tr>\n",
       "      <th>886</th>\n",
       "      <td>887</td>\n",
       "      <td>0</td>\n",
       "      <td>2</td>\n",
       "      <td>Montvila, Rev. Juozas</td>\n",
       "      <td>male</td>\n",
       "      <td>27.0</td>\n",
       "      <td>0</td>\n",
       "      <td>0</td>\n",
       "      <td>211536</td>\n",
       "      <td>13.0000</td>\n",
       "      <td>NaN</td>\n",
       "      <td>S</td>\n",
       "    </tr>\n",
       "    <tr>\n",
       "      <th>887</th>\n",
       "      <td>888</td>\n",
       "      <td>1</td>\n",
       "      <td>1</td>\n",
       "      <td>Graham, Miss. Margaret Edith</td>\n",
       "      <td>female</td>\n",
       "      <td>19.0</td>\n",
       "      <td>0</td>\n",
       "      <td>0</td>\n",
       "      <td>112053</td>\n",
       "      <td>30.0000</td>\n",
       "      <td>B42</td>\n",
       "      <td>S</td>\n",
       "    </tr>\n",
       "    <tr>\n",
       "      <th>888</th>\n",
       "      <td>889</td>\n",
       "      <td>0</td>\n",
       "      <td>3</td>\n",
       "      <td>Johnston, Miss. Catherine Helen \"Carrie\"</td>\n",
       "      <td>female</td>\n",
       "      <td>NaN</td>\n",
       "      <td>1</td>\n",
       "      <td>2</td>\n",
       "      <td>W./C. 6607</td>\n",
       "      <td>23.4500</td>\n",
       "      <td>NaN</td>\n",
       "      <td>S</td>\n",
       "    </tr>\n",
       "    <tr>\n",
       "      <th>889</th>\n",
       "      <td>890</td>\n",
       "      <td>1</td>\n",
       "      <td>1</td>\n",
       "      <td>Behr, Mr. Karl Howell</td>\n",
       "      <td>male</td>\n",
       "      <td>26.0</td>\n",
       "      <td>0</td>\n",
       "      <td>0</td>\n",
       "      <td>111369</td>\n",
       "      <td>30.0000</td>\n",
       "      <td>C148</td>\n",
       "      <td>C</td>\n",
       "    </tr>\n",
       "    <tr>\n",
       "      <th>890</th>\n",
       "      <td>891</td>\n",
       "      <td>0</td>\n",
       "      <td>3</td>\n",
       "      <td>Dooley, Mr. Patrick</td>\n",
       "      <td>male</td>\n",
       "      <td>32.0</td>\n",
       "      <td>0</td>\n",
       "      <td>0</td>\n",
       "      <td>370376</td>\n",
       "      <td>7.7500</td>\n",
       "      <td>NaN</td>\n",
       "      <td>Q</td>\n",
       "    </tr>\n",
       "  </tbody>\n",
       "</table>\n",
       "<p>891 rows × 12 columns</p>\n",
       "</div>"
      ],
      "text/plain": [
       "     PassengerId  Survived  Pclass  \\\n",
       "0              1         0       3   \n",
       "1              2         1       1   \n",
       "2              3         1       3   \n",
       "3              4         1       1   \n",
       "4              5         0       3   \n",
       "..           ...       ...     ...   \n",
       "886          887         0       2   \n",
       "887          888         1       1   \n",
       "888          889         0       3   \n",
       "889          890         1       1   \n",
       "890          891         0       3   \n",
       "\n",
       "                                                  Name     Sex   Age  SibSp  \\\n",
       "0                              Braund, Mr. Owen Harris    male  22.0      1   \n",
       "1    Cumings, Mrs. John Bradley (Florence Briggs Th...  female  38.0      1   \n",
       "2                               Heikkinen, Miss. Laina  female  26.0      0   \n",
       "3         Futrelle, Mrs. Jacques Heath (Lily May Peel)  female  35.0      1   \n",
       "4                             Allen, Mr. William Henry    male  35.0      0   \n",
       "..                                                 ...     ...   ...    ...   \n",
       "886                              Montvila, Rev. Juozas    male  27.0      0   \n",
       "887                       Graham, Miss. Margaret Edith  female  19.0      0   \n",
       "888           Johnston, Miss. Catherine Helen \"Carrie\"  female   NaN      1   \n",
       "889                              Behr, Mr. Karl Howell    male  26.0      0   \n",
       "890                                Dooley, Mr. Patrick    male  32.0      0   \n",
       "\n",
       "     Parch            Ticket     Fare Cabin Embarked  \n",
       "0        0         A/5 21171   7.2500   NaN        S  \n",
       "1        0          PC 17599  71.2833   C85        C  \n",
       "2        0  STON/O2. 3101282   7.9250   NaN        S  \n",
       "3        0            113803  53.1000  C123        S  \n",
       "4        0            373450   8.0500   NaN        S  \n",
       "..     ...               ...      ...   ...      ...  \n",
       "886      0            211536  13.0000   NaN        S  \n",
       "887      0            112053  30.0000   B42        S  \n",
       "888      2        W./C. 6607  23.4500   NaN        S  \n",
       "889      0            111369  30.0000  C148        C  \n",
       "890      0            370376   7.7500   NaN        Q  \n",
       "\n",
       "[891 rows x 12 columns]"
      ]
     },
     "execution_count": 2,
     "metadata": {},
     "output_type": "execute_result"
    }
   ],
   "source": [
    "df=pd.read_csv(\"../input/titanic/train.csv\")\n",
    "df"
   ]
  },
  {
   "cell_type": "markdown",
   "metadata": {
    "papermill": {
     "duration": 0.038023,
     "end_time": "2020-10-16T17:13:32.393193",
     "exception": false,
     "start_time": "2020-10-16T17:13:32.355170",
     "status": "completed"
    },
    "tags": []
   },
   "source": [
    "###### checking for null values"
   ]
  },
  {
   "cell_type": "code",
   "execution_count": 3,
   "metadata": {
    "execution": {
     "iopub.execute_input": "2020-10-16T17:13:32.483565Z",
     "iopub.status.busy": "2020-10-16T17:13:32.482612Z",
     "iopub.status.idle": "2020-10-16T17:13:32.497913Z",
     "shell.execute_reply": "2020-10-16T17:13:32.497212Z"
    },
    "papermill": {
     "duration": 0.066708,
     "end_time": "2020-10-16T17:13:32.498039",
     "exception": false,
     "start_time": "2020-10-16T17:13:32.431331",
     "status": "completed"
    },
    "tags": []
   },
   "outputs": [
    {
     "data": {
      "text/html": [
       "<div>\n",
       "<style scoped>\n",
       "    .dataframe tbody tr th:only-of-type {\n",
       "        vertical-align: middle;\n",
       "    }\n",
       "\n",
       "    .dataframe tbody tr th {\n",
       "        vertical-align: top;\n",
       "    }\n",
       "\n",
       "    .dataframe thead th {\n",
       "        text-align: right;\n",
       "    }\n",
       "</style>\n",
       "<table border=\"1\" class=\"dataframe\">\n",
       "  <thead>\n",
       "    <tr style=\"text-align: right;\">\n",
       "      <th></th>\n",
       "      <th>class</th>\n",
       "      <th>per</th>\n",
       "    </tr>\n",
       "  </thead>\n",
       "  <tbody>\n",
       "    <tr>\n",
       "      <th>0</th>\n",
       "      <td>PassengerId</td>\n",
       "      <td>0.000000</td>\n",
       "    </tr>\n",
       "    <tr>\n",
       "      <th>1</th>\n",
       "      <td>Survived</td>\n",
       "      <td>0.000000</td>\n",
       "    </tr>\n",
       "    <tr>\n",
       "      <th>2</th>\n",
       "      <td>Pclass</td>\n",
       "      <td>0.000000</td>\n",
       "    </tr>\n",
       "    <tr>\n",
       "      <th>3</th>\n",
       "      <td>Name</td>\n",
       "      <td>0.000000</td>\n",
       "    </tr>\n",
       "    <tr>\n",
       "      <th>4</th>\n",
       "      <td>Sex</td>\n",
       "      <td>0.000000</td>\n",
       "    </tr>\n",
       "    <tr>\n",
       "      <th>5</th>\n",
       "      <td>Age</td>\n",
       "      <td>19.865320</td>\n",
       "    </tr>\n",
       "    <tr>\n",
       "      <th>6</th>\n",
       "      <td>SibSp</td>\n",
       "      <td>0.000000</td>\n",
       "    </tr>\n",
       "    <tr>\n",
       "      <th>7</th>\n",
       "      <td>Parch</td>\n",
       "      <td>0.000000</td>\n",
       "    </tr>\n",
       "    <tr>\n",
       "      <th>8</th>\n",
       "      <td>Ticket</td>\n",
       "      <td>0.000000</td>\n",
       "    </tr>\n",
       "    <tr>\n",
       "      <th>9</th>\n",
       "      <td>Fare</td>\n",
       "      <td>0.000000</td>\n",
       "    </tr>\n",
       "    <tr>\n",
       "      <th>10</th>\n",
       "      <td>Cabin</td>\n",
       "      <td>77.104377</td>\n",
       "    </tr>\n",
       "    <tr>\n",
       "      <th>11</th>\n",
       "      <td>Embarked</td>\n",
       "      <td>0.224467</td>\n",
       "    </tr>\n",
       "  </tbody>\n",
       "</table>\n",
       "</div>"
      ],
      "text/plain": [
       "          class        per\n",
       "0   PassengerId   0.000000\n",
       "1      Survived   0.000000\n",
       "2        Pclass   0.000000\n",
       "3          Name   0.000000\n",
       "4           Sex   0.000000\n",
       "5           Age  19.865320\n",
       "6         SibSp   0.000000\n",
       "7         Parch   0.000000\n",
       "8        Ticket   0.000000\n",
       "9          Fare   0.000000\n",
       "10        Cabin  77.104377\n",
       "11     Embarked   0.224467"
      ]
     },
     "execution_count": 3,
     "metadata": {},
     "output_type": "execute_result"
    }
   ],
   "source": [
    "Null=[]\n",
    "for i in df:\n",
    "    Null.append((i,df[i].isna().mean()*100))\n",
    "Null=pd.DataFrame(Null,columns=['class','per'])\n",
    "Null"
   ]
  },
  {
   "cell_type": "markdown",
   "metadata": {
    "papermill": {
     "duration": 0.038935,
     "end_time": "2020-10-16T17:13:32.576075",
     "exception": false,
     "start_time": "2020-10-16T17:13:32.537140",
     "status": "completed"
    },
    "tags": []
   },
   "source": [
    "##### we can remove canbin as it has 77% of null values\n",
    "##### Name and Ticke will not be useful in decison making so we can drop them too"
   ]
  },
  {
   "cell_type": "code",
   "execution_count": 4,
   "metadata": {
    "execution": {
     "iopub.execute_input": "2020-10-16T17:13:32.665011Z",
     "iopub.status.busy": "2020-10-16T17:13:32.662065Z",
     "iopub.status.idle": "2020-10-16T17:13:32.669367Z",
     "shell.execute_reply": "2020-10-16T17:13:32.669913Z"
    },
    "papermill": {
     "duration": 0.054865,
     "end_time": "2020-10-16T17:13:32.670089",
     "exception": false,
     "start_time": "2020-10-16T17:13:32.615224",
     "status": "completed"
    },
    "tags": []
   },
   "outputs": [
    {
     "data": {
      "text/plain": [
       "PassengerId      int64\n",
       "Survived         int64\n",
       "Pclass           int64\n",
       "Sex             object\n",
       "Age            float64\n",
       "SibSp            int64\n",
       "Parch            int64\n",
       "Fare           float64\n",
       "Embarked        object\n",
       "dtype: object"
      ]
     },
     "execution_count": 4,
     "metadata": {},
     "output_type": "execute_result"
    }
   ],
   "source": [
    "df=df.drop([\"Cabin\",\"Name\",\"Ticket\"],axis=1)\n",
    "df.dtypes"
   ]
  },
  {
   "cell_type": "markdown",
   "metadata": {
    "papermill": {
     "duration": 0.039249,
     "end_time": "2020-10-16T17:13:32.748697",
     "exception": false,
     "start_time": "2020-10-16T17:13:32.709448",
     "status": "completed"
    },
    "tags": []
   },
   "source": [
    "##### filling other na values with mode "
   ]
  },
  {
   "cell_type": "code",
   "execution_count": 5,
   "metadata": {
    "execution": {
     "iopub.execute_input": "2020-10-16T17:13:32.842302Z",
     "iopub.status.busy": "2020-10-16T17:13:32.839830Z",
     "iopub.status.idle": "2020-10-16T17:13:32.847147Z",
     "shell.execute_reply": "2020-10-16T17:13:32.846486Z"
    },
    "papermill": {
     "duration": 0.058866,
     "end_time": "2020-10-16T17:13:32.847273",
     "exception": false,
     "start_time": "2020-10-16T17:13:32.788407",
     "status": "completed"
    },
    "tags": []
   },
   "outputs": [
    {
     "data": {
      "text/plain": [
       "PassengerId    0\n",
       "Survived       0\n",
       "Pclass         0\n",
       "Sex            0\n",
       "Age            0\n",
       "SibSp          0\n",
       "Parch          0\n",
       "Fare           0\n",
       "Embarked       0\n",
       "dtype: int64"
      ]
     },
     "execution_count": 5,
     "metadata": {},
     "output_type": "execute_result"
    }
   ],
   "source": [
    "df=df.fillna(df.mode)\n",
    "df.isna().sum()"
   ]
  },
  {
   "cell_type": "markdown",
   "metadata": {
    "papermill": {
     "duration": 0.040565,
     "end_time": "2020-10-16T17:13:32.928537",
     "exception": false,
     "start_time": "2020-10-16T17:13:32.887972",
     "status": "completed"
    },
    "tags": []
   },
   "source": [
    "#### Handling Object data type"
   ]
  },
  {
   "cell_type": "markdown",
   "metadata": {
    "papermill": {
     "duration": 0.040239,
     "end_time": "2020-10-16T17:13:33.009272",
     "exception": false,
     "start_time": "2020-10-16T17:13:32.969033",
     "status": "completed"
    },
    "tags": []
   },
   "source": [
    "##### label encoding the Sex column"
   ]
  },
  {
   "cell_type": "code",
   "execution_count": 6,
   "metadata": {
    "execution": {
     "iopub.execute_input": "2020-10-16T17:13:33.098016Z",
     "iopub.status.busy": "2020-10-16T17:13:33.096881Z",
     "iopub.status.idle": "2020-10-16T17:13:33.101740Z",
     "shell.execute_reply": "2020-10-16T17:13:33.100855Z"
    },
    "papermill": {
     "duration": 0.051624,
     "end_time": "2020-10-16T17:13:33.101878",
     "exception": false,
     "start_time": "2020-10-16T17:13:33.050254",
     "status": "completed"
    },
    "tags": []
   },
   "outputs": [
    {
     "data": {
      "text/plain": [
       "array(['male', 'female'], dtype=object)"
      ]
     },
     "execution_count": 6,
     "metadata": {},
     "output_type": "execute_result"
    }
   ],
   "source": [
    "df.Sex.unique()"
   ]
  },
  {
   "cell_type": "code",
   "execution_count": 7,
   "metadata": {
    "execution": {
     "iopub.execute_input": "2020-10-16T17:13:33.196459Z",
     "iopub.status.busy": "2020-10-16T17:13:33.195531Z",
     "iopub.status.idle": "2020-10-16T17:13:33.200457Z",
     "shell.execute_reply": "2020-10-16T17:13:33.199770Z"
    },
    "papermill": {
     "duration": 0.056925,
     "end_time": "2020-10-16T17:13:33.200590",
     "exception": false,
     "start_time": "2020-10-16T17:13:33.143665",
     "status": "completed"
    },
    "tags": []
   },
   "outputs": [
    {
     "data": {
      "text/plain": [
       "array([1, 2])"
      ]
     },
     "execution_count": 7,
     "metadata": {},
     "output_type": "execute_result"
    }
   ],
   "source": [
    "df.Sex=df.Sex.replace(\"male\",1)\n",
    "df.Sex=df.Sex.replace(\"female\",2)\n",
    "df.Sex.unique()"
   ]
  },
  {
   "cell_type": "markdown",
   "metadata": {
    "papermill": {
     "duration": 0.044837,
     "end_time": "2020-10-16T17:13:33.287097",
     "exception": false,
     "start_time": "2020-10-16T17:13:33.242260",
     "status": "completed"
    },
    "tags": []
   },
   "source": [
    "##### in Embarked column values are stored with unwanted values shown below"
   ]
  },
  {
   "cell_type": "code",
   "execution_count": 8,
   "metadata": {
    "execution": {
     "iopub.execute_input": "2020-10-16T17:13:33.394805Z",
     "iopub.status.busy": "2020-10-16T17:13:33.393715Z",
     "iopub.status.idle": "2020-10-16T17:13:33.399346Z",
     "shell.execute_reply": "2020-10-16T17:13:33.399914Z"
    },
    "papermill": {
     "duration": 0.070519,
     "end_time": "2020-10-16T17:13:33.400082",
     "exception": false,
     "start_time": "2020-10-16T17:13:33.329563",
     "status": "completed"
    },
    "tags": []
   },
   "outputs": [
    {
     "data": {
      "text/plain": [
       "'<bound method DataFrame.mode of      PassengerId  Survived  Pclass     Sex   Age  SibSp  Parch     Fare  \\\\\\n0              1         0       3    male  22.0      1      0   7.2500   \\n1              2         1       1  female  38.0      1      0  71.2833   \\n2              3         1       3  female  26.0      0      0   7.9250   \\n3              4         1       1  female  35.0      1      0  53.1000   \\n4              5         0       3    male  35.0      0      0   8.0500   \\n..           ...       ...     ...     ...   ...    ...    ...      ...   \\n886          887         0       2    male  27.0      0      0  13.0000   \\n887          888         1       1  female  19.0      0      0  30.0000   \\n888          889         0       3  female   NaN      1      2  23.4500   \\n889          890         1       1    male  26.0      0      0  30.0000   \\n890          891         0       3    male  32.0      0      0   7.7500   \\n\\n    Embarked  \\n0          S  \\n1          C  \\n2          S  \\n3          S  \\n4          S  \\n..       ...  \\n886        S  \\n887        S  \\n888        S  \\n889        C  \\n890        Q  \\n\\n[891 rows x 9 columns]>'"
      ]
     },
     "execution_count": 8,
     "metadata": {},
     "output_type": "execute_result"
    }
   ],
   "source": [
    "df.Embarked = df.Embarked.apply(str)\n",
    "k=df.Embarked.unique()\n",
    "k[-1]"
   ]
  },
  {
   "cell_type": "markdown",
   "metadata": {
    "papermill": {
     "duration": 0.041727,
     "end_time": "2020-10-16T17:13:33.483864",
     "exception": false,
     "start_time": "2020-10-16T17:13:33.442137",
     "status": "completed"
    },
    "tags": []
   },
   "source": [
    "##### label encoding the column and replacing unwanted values with most frequent value i.e. 'S'"
   ]
  },
  {
   "cell_type": "code",
   "execution_count": 9,
   "metadata": {
    "execution": {
     "iopub.execute_input": "2020-10-16T17:13:33.579914Z",
     "iopub.status.busy": "2020-10-16T17:13:33.578868Z",
     "iopub.status.idle": "2020-10-16T17:13:33.581896Z",
     "shell.execute_reply": "2020-10-16T17:13:33.582418Z"
    },
    "papermill": {
     "duration": 0.056649,
     "end_time": "2020-10-16T17:13:33.582580",
     "exception": false,
     "start_time": "2020-10-16T17:13:33.525931",
     "status": "completed"
    },
    "tags": []
   },
   "outputs": [],
   "source": [
    "df.Embarked=df.Embarked.replace('S',1)\n",
    "df.Embarked=df.Embarked.replace('C',2)\n",
    "df.Embarked=df.Embarked.replace('Q',3)\n",
    "df.Embarked=df.Embarked.replace(k[-1],1)"
   ]
  },
  {
   "cell_type": "markdown",
   "metadata": {
    "papermill": {
     "duration": 0.041866,
     "end_time": "2020-10-16T17:13:33.666910",
     "exception": false,
     "start_time": "2020-10-16T17:13:33.625044",
     "status": "completed"
    },
    "tags": []
   },
   "source": [
    "##### similar problem with Age attribute, so replacing the unk value with 28 and converting into float"
   ]
  },
  {
   "cell_type": "code",
   "execution_count": 10,
   "metadata": {
    "execution": {
     "iopub.execute_input": "2020-10-16T17:13:33.832788Z",
     "iopub.status.busy": "2020-10-16T17:13:33.790357Z",
     "iopub.status.idle": "2020-10-16T17:13:35.062004Z",
     "shell.execute_reply": "2020-10-16T17:13:35.061253Z"
    },
    "papermill": {
     "duration": 1.353108,
     "end_time": "2020-10-16T17:13:35.062133",
     "exception": false,
     "start_time": "2020-10-16T17:13:33.709025",
     "status": "completed"
    },
    "tags": []
   },
   "outputs": [],
   "source": [
    "df.Age=df.Age.apply(str)\n",
    "k=df.Age.unique()\n",
    "df.Age=df.Age.replace(k[4],\"28.0\")\n",
    "df.Age=df.Age.apply(float)"
   ]
  },
  {
   "cell_type": "markdown",
   "metadata": {
    "papermill": {
     "duration": 0.042319,
     "end_time": "2020-10-16T17:13:35.146969",
     "exception": false,
     "start_time": "2020-10-16T17:13:35.104650",
     "status": "completed"
    },
    "tags": []
   },
   "source": [
    "##### correlation heatmap"
   ]
  },
  {
   "cell_type": "code",
   "execution_count": 11,
   "metadata": {
    "execution": {
     "iopub.execute_input": "2020-10-16T17:13:35.241079Z",
     "iopub.status.busy": "2020-10-16T17:13:35.240312Z",
     "iopub.status.idle": "2020-10-16T17:13:36.995757Z",
     "shell.execute_reply": "2020-10-16T17:13:36.996383Z"
    },
    "papermill": {
     "duration": 1.804639,
     "end_time": "2020-10-16T17:13:36.996554",
     "exception": false,
     "start_time": "2020-10-16T17:13:35.191915",
     "status": "completed"
    },
    "tags": []
   },
   "outputs": [
    {
     "data": {
      "text/plain": [
       "<matplotlib.axes._subplots.AxesSubplot at 0x7fcfacbc84d0>"
      ]
     },
     "execution_count": 11,
     "metadata": {},
     "output_type": "execute_result"
    },
    {
     "data": {
      "image/png": "[encoded data removed]",
      "text/plain": [
       "<Figure size 2160x1440 with 2 Axes>"
      ]
     },
     "metadata": {
      "needs_background": "light"
     },
     "output_type": "display_data"
    }
   ],
   "source": [
    "import seaborn as sns\n",
    "import matplotlib.pyplot as plt\n",
    "plt.figure(figsize=(30,20))\n",
    "sns.heatmap(df.corr(),annot = True,cmap=\"jet\")"
   ]
  },
  {
   "cell_type": "markdown",
   "metadata": {
    "papermill": {
     "duration": 0.044904,
     "end_time": "2020-10-16T17:13:37.087355",
     "exception": false,
     "start_time": "2020-10-16T17:13:37.042451",
     "status": "completed"
    },
    "tags": []
   },
   "source": [
    "##### seperating X and Y values"
   ]
  },
  {
   "cell_type": "code",
   "execution_count": 12,
   "metadata": {
    "execution": {
     "iopub.execute_input": "2020-10-16T17:13:37.186296Z",
     "iopub.status.busy": "2020-10-16T17:13:37.184801Z",
     "iopub.status.idle": "2020-10-16T17:13:37.189265Z",
     "shell.execute_reply": "2020-10-16T17:13:37.189830Z"
    },
    "papermill": {
     "duration": 0.0568,
     "end_time": "2020-10-16T17:13:37.190005",
     "exception": false,
     "start_time": "2020-10-16T17:13:37.133205",
     "status": "completed"
    },
    "tags": []
   },
   "outputs": [],
   "source": [
    "cols = [col for col in df.columns if col not in [\"Survived\"]]\n",
    "X = df[cols]\n",
    "y = df[\"Survived\"]"
   ]
  },
  {
   "cell_type": "markdown",
   "metadata": {
    "papermill": {
     "duration": 0.045769,
     "end_time": "2020-10-16T17:13:37.281158",
     "exception": false,
     "start_time": "2020-10-16T17:13:37.235389",
     "status": "completed"
    },
    "tags": []
   },
   "source": [
    "##### stroring the feature used for training in l"
   ]
  },
  {
   "cell_type": "code",
   "execution_count": 13,
   "metadata": {
    "execution": {
     "iopub.execute_input": "2020-10-16T17:13:37.377472Z",
     "iopub.status.busy": "2020-10-16T17:13:37.376476Z",
     "iopub.status.idle": "2020-10-16T17:13:37.379157Z",
     "shell.execute_reply": "2020-10-16T17:13:37.379729Z"
    },
    "papermill": {
     "duration": 0.053637,
     "end_time": "2020-10-16T17:13:37.379904",
     "exception": false,
     "start_time": "2020-10-16T17:13:37.326267",
     "status": "completed"
    },
    "tags": []
   },
   "outputs": [],
   "source": [
    "l=list(X)"
   ]
  },
  {
   "cell_type": "markdown",
   "metadata": {
    "papermill": {
     "duration": 0.044928,
     "end_time": "2020-10-16T17:13:37.470245",
     "exception": false,
     "start_time": "2020-10-16T17:13:37.425317",
     "status": "completed"
    },
    "tags": []
   },
   "source": [
    "##### using Logirithmic Regression for fitting the model"
   ]
  },
  {
   "cell_type": "code",
   "execution_count": 14,
   "metadata": {
    "execution": {
     "iopub.execute_input": "2020-10-16T17:13:37.567847Z",
     "iopub.status.busy": "2020-10-16T17:13:37.567069Z",
     "iopub.status.idle": "2020-10-16T17:13:37.821526Z",
     "shell.execute_reply": "2020-10-16T17:13:37.822223Z"
    },
    "papermill": {
     "duration": 0.306188,
     "end_time": "2020-10-16T17:13:37.822416",
     "exception": false,
     "start_time": "2020-10-16T17:13:37.516228",
     "status": "completed"
    },
    "tags": []
   },
   "outputs": [
    {
     "name": "stderr",
     "output_type": "stream",
     "text": [
      "/opt/conda/lib/python3.7/site-packages/sklearn/linear_model/_logistic.py:764: ConvergenceWarning: lbfgs failed to converge (status=1):\n",
      "STOP: TOTAL NO. of ITERATIONS REACHED LIMIT.\n",
      "\n",
      "Increase the number of iterations (max_iter) or scale the data as shown in:\n",
      "    https://scikit-learn.org/stable/modules/preprocessing.html\n",
      "Please also refer to the documentation for alternative solver options:\n",
      "    https://scikit-learn.org/stable/modules/linear_model.html#logistic-regression\n",
      "  extra_warning_msg=_LOGISTIC_SOLVER_CONVERGENCE_MSG)\n"
     ]
    },
    {
     "data": {
      "text/plain": [
       "0.8013468013468014"
      ]
     },
     "execution_count": 14,
     "metadata": {},
     "output_type": "execute_result"
    }
   ],
   "source": [
    "from sklearn.linear_model import LogisticRegression as LR\n",
    "model = LR()\n",
    "model.fit(X,y)\n",
    "model.score(X,y)"
   ]
  },
  {
   "cell_type": "markdown",
   "metadata": {
    "papermill": {
     "duration": 0.046707,
     "end_time": "2020-10-16T17:13:37.918099",
     "exception": false,
     "start_time": "2020-10-16T17:13:37.871392",
     "status": "completed"
    },
    "tags": []
   },
   "source": [
    "##### inputing the test data and selecting required features"
   ]
  },
  {
   "cell_type": "code",
   "execution_count": 15,
   "metadata": {
    "execution": {
     "iopub.execute_input": "2020-10-16T17:13:38.019271Z",
     "iopub.status.busy": "2020-10-16T17:13:38.018174Z",
     "iopub.status.idle": "2020-10-16T17:13:38.029765Z",
     "shell.execute_reply": "2020-10-16T17:13:38.028946Z"
    },
    "papermill": {
     "duration": 0.065544,
     "end_time": "2020-10-16T17:13:38.029905",
     "exception": false,
     "start_time": "2020-10-16T17:13:37.964361",
     "status": "completed"
    },
    "tags": []
   },
   "outputs": [],
   "source": [
    "df=pd.read_csv(\"../input/titanic/test.csv\")\n",
    "l\n",
    "df=df[l]"
   ]
  },
  {
   "cell_type": "markdown",
   "metadata": {
    "papermill": {
     "duration": 0.046402,
     "end_time": "2020-10-16T17:13:38.123484",
     "exception": false,
     "start_time": "2020-10-16T17:13:38.077082",
     "status": "completed"
    },
    "tags": []
   },
   "source": [
    "##### label encoding the Sex column"
   ]
  },
  {
   "cell_type": "code",
   "execution_count": 16,
   "metadata": {
    "execution": {
     "iopub.execute_input": "2020-10-16T17:13:38.226837Z",
     "iopub.status.busy": "2020-10-16T17:13:38.225865Z",
     "iopub.status.idle": "2020-10-16T17:13:38.231120Z",
     "shell.execute_reply": "2020-10-16T17:13:38.230309Z"
    },
    "papermill": {
     "duration": 0.061304,
     "end_time": "2020-10-16T17:13:38.231262",
     "exception": false,
     "start_time": "2020-10-16T17:13:38.169958",
     "status": "completed"
    },
    "tags": []
   },
   "outputs": [
    {
     "data": {
      "text/plain": [
       "array([1, 2])"
      ]
     },
     "execution_count": 16,
     "metadata": {},
     "output_type": "execute_result"
    }
   ],
   "source": [
    "df.Sex=df.Sex.replace(\"male\",1)\n",
    "df.Sex=df.Sex.replace(\"female\",2)\n",
    "df.Sex.unique()"
   ]
  },
  {
   "cell_type": "code",
   "execution_count": 17,
   "metadata": {
    "execution": {
     "iopub.execute_input": "2020-10-16T17:13:38.334109Z",
     "iopub.status.busy": "2020-10-16T17:13:38.333048Z",
     "iopub.status.idle": "2020-10-16T17:13:38.336617Z",
     "shell.execute_reply": "2020-10-16T17:13:38.336058Z"
    },
    "papermill": {
     "duration": 0.057855,
     "end_time": "2020-10-16T17:13:38.336770",
     "exception": false,
     "start_time": "2020-10-16T17:13:38.278915",
     "status": "completed"
    },
    "tags": []
   },
   "outputs": [],
   "source": [
    "df.Embarked = df.Embarked.apply(str)\n",
    "k=df.Embarked.unique()"
   ]
  },
  {
   "cell_type": "markdown",
   "metadata": {
    "papermill": {
     "duration": 0.04746,
     "end_time": "2020-10-16T17:13:38.431513",
     "exception": false,
     "start_time": "2020-10-16T17:13:38.384053",
     "status": "completed"
    },
    "tags": []
   },
   "source": [
    "##### label encoding embarked column"
   ]
  },
  {
   "cell_type": "code",
   "execution_count": 18,
   "metadata": {
    "execution": {
     "iopub.execute_input": "2020-10-16T17:13:38.536702Z",
     "iopub.status.busy": "2020-10-16T17:13:38.535596Z",
     "iopub.status.idle": "2020-10-16T17:13:38.539016Z",
     "shell.execute_reply": "2020-10-16T17:13:38.538261Z"
    },
    "papermill": {
     "duration": 0.060287,
     "end_time": "2020-10-16T17:13:38.539146",
     "exception": false,
     "start_time": "2020-10-16T17:13:38.478859",
     "status": "completed"
    },
    "tags": []
   },
   "outputs": [],
   "source": [
    "df.Embarked=df.Embarked.replace('S',1)\n",
    "df.Embarked=df.Embarked.replace('C',2)\n",
    "df.Embarked=df.Embarked.replace('Q',3)"
   ]
  },
  {
   "cell_type": "markdown",
   "metadata": {
    "papermill": {
     "duration": 0.047946,
     "end_time": "2020-10-16T17:13:38.635223",
     "exception": false,
     "start_time": "2020-10-16T17:13:38.587277",
     "status": "completed"
    },
    "tags": []
   },
   "source": [
    "##### filling null values mode"
   ]
  },
  {
   "cell_type": "code",
   "execution_count": 19,
   "metadata": {
    "execution": {
     "iopub.execute_input": "2020-10-16T17:13:38.741752Z",
     "iopub.status.busy": "2020-10-16T17:13:38.740596Z",
     "iopub.status.idle": "2020-10-16T17:13:38.745124Z",
     "shell.execute_reply": "2020-10-16T17:13:38.744415Z"
    },
    "papermill": {
     "duration": 0.062184,
     "end_time": "2020-10-16T17:13:38.745256",
     "exception": false,
     "start_time": "2020-10-16T17:13:38.683072",
     "status": "completed"
    },
    "tags": []
   },
   "outputs": [
    {
     "data": {
      "text/plain": [
       "PassengerId    0\n",
       "Pclass         0\n",
       "Sex            0\n",
       "Age            0\n",
       "SibSp          0\n",
       "Parch          0\n",
       "Fare           0\n",
       "Embarked       0\n",
       "dtype: int64"
      ]
     },
     "execution_count": 19,
     "metadata": {},
     "output_type": "execute_result"
    }
   ],
   "source": [
    "df=df.fillna(df.mode)\n",
    "df.isna().sum()"
   ]
  },
  {
   "cell_type": "code",
   "execution_count": 20,
   "metadata": {
    "execution": {
     "iopub.execute_input": "2020-10-16T17:13:38.849516Z",
     "iopub.status.busy": "2020-10-16T17:13:38.848687Z",
     "iopub.status.idle": "2020-10-16T17:13:38.853188Z",
     "shell.execute_reply": "2020-10-16T17:13:38.853796Z"
    },
    "papermill": {
     "duration": 0.06077,
     "end_time": "2020-10-16T17:13:38.853957",
     "exception": false,
     "start_time": "2020-10-16T17:13:38.793187",
     "status": "completed"
    },
    "tags": []
   },
   "outputs": [
    {
     "data": {
      "text/plain": [
       "PassengerId     int64\n",
       "Pclass          int64\n",
       "Sex             int64\n",
       "Age            object\n",
       "SibSp           int64\n",
       "Parch           int64\n",
       "Fare           object\n",
       "Embarked        int64\n",
       "dtype: object"
      ]
     },
     "execution_count": 20,
     "metadata": {},
     "output_type": "execute_result"
    }
   ],
   "source": [
    "df.dtypes"
   ]
  },
  {
   "cell_type": "markdown",
   "metadata": {
    "papermill": {
     "duration": 0.048154,
     "end_time": "2020-10-16T17:13:38.951186",
     "exception": false,
     "start_time": "2020-10-16T17:13:38.903032",
     "status": "completed"
    },
    "tags": []
   },
   "source": [
    "##### handling unkown or garbage values in Fare"
   ]
  },
  {
   "cell_type": "code",
   "execution_count": 21,
   "metadata": {
    "execution": {
     "iopub.execute_input": "2020-10-16T17:13:39.066080Z",
     "iopub.status.busy": "2020-10-16T17:13:39.065209Z",
     "iopub.status.idle": "2020-10-16T17:13:39.070009Z",
     "shell.execute_reply": "2020-10-16T17:13:39.069418Z"
    },
    "papermill": {
     "duration": 0.070526,
     "end_time": "2020-10-16T17:13:39.070142",
     "exception": false,
     "start_time": "2020-10-16T17:13:38.999616",
     "status": "completed"
    },
    "tags": []
   },
   "outputs": [
    {
     "data": {
      "text/plain": [
       "array(['7.8292', '7.0', '9.6875', '8.6625', '12.2875', '9.225', '7.6292',\n",
       "       '29.0', '7.2292', '24.15', '7.8958', '26.0', '82.2667', '61.175',\n",
       "       '27.7208', '12.35', '7.225', '7.925', '59.4', '3.1708', '31.6833',\n",
       "       '61.3792', '262.375', '14.5', '61.9792', '30.5', '21.6792', '31.5',\n",
       "       '20.575', '23.45', '57.75', '8.05', '9.5', '56.4958', '13.4167',\n",
       "       '26.55', '7.85', '13.0', '52.5542', '29.7', '7.75', '76.2917',\n",
       "       '15.9', '60.0', '15.0333', '23.0', '263.0', '15.5792', '29.125',\n",
       "       '7.65', '16.1', '13.5', '7.725', '21.0', '7.8792', '42.4',\n",
       "       '28.5375', '211.5', '25.7', '15.2458', '221.7792', '10.7083',\n",
       "       '14.4542', '13.9', '7.775', '52.0', '7.7958', '78.85', '7.8542',\n",
       "       '55.4417', '8.5167', '22.525', '7.8208', '8.7125', '15.0458',\n",
       "       '7.7792', '31.6792', '7.2833', '6.4375', '16.7', '75.2417',\n",
       "       '15.75', '7.25', '23.25', '28.5', '25.4667', '46.9', '151.55',\n",
       "       '18.0', '51.8625', '83.1583',\n",
       "       '<bound method DataFrame.mode of      PassengerId  Pclass  Sex   Age  SibSp  Parch      Fare  Embarked\\n0            892       3    1  34.5      0      0    7.8292         3\\n1            893       3    2  47.0      1      0    7.0000         1\\n2            894       2    1  62.0      0      0    9.6875         3\\n3            895       3    1  27.0      0      0    8.6625         1\\n4            896       3    2  22.0      1      1   12.2875         1\\n..           ...     ...  ...   ...    ...    ...       ...       ...\\n413         1305       3    1   NaN      0      0    8.0500         1\\n414         1306       1    2  39.0      0      0  108.9000         2\\n415         1307       3    1  38.5      0      0    7.2500         1\\n416         1308       3    1   NaN      0      0    8.0500         1\\n417         1309       3    1   NaN      1      1   22.3583         2\\n\\n[418 rows x 8 columns]>',\n",
       "       '12.1833', '31.3875', '7.55', '13.775', '7.7333', '22.025',\n",
       "       '50.4958', '34.375', '8.9625', '39.0', '36.75', '53.1', '247.5208',\n",
       "       '16.0', '69.55', '32.5', '134.5', '10.5', '8.1125', '15.5', '14.4',\n",
       "       '227.525', '25.7417', '7.05', '73.5', '42.5', '164.8667',\n",
       "       '13.8583', '27.4458', '15.1', '65.0', '6.4958', '71.2833', '75.25',\n",
       "       '106.425', '30.0', '7.8875', '27.75', '136.7792', '9.325', '17.4',\n",
       "       '12.7375', '0.0', '20.2125', '39.6', '6.95', '81.8583', '41.5792',\n",
       "       '45.5', '9.35', '93.5', '14.1083', '7.575', '135.6333', '146.5208',\n",
       "       '211.3375', '79.2', '15.7417', '7.5792', '512.3292', '63.3583',\n",
       "       '51.4792', '15.55', '37.0042', '14.4583', '39.6875', '11.5',\n",
       "       '50.0', '12.875', '21.075', '39.4', '20.25', '47.1', '13.8625',\n",
       "       '7.7208', '90.0', '108.9', '22.3583'], dtype=object)"
      ]
     },
     "execution_count": 21,
     "metadata": {},
     "output_type": "execute_result"
    }
   ],
   "source": [
    "df.Fare=df.Fare.apply(str)\n",
    "df.Fare.unique()"
   ]
  },
  {
   "cell_type": "code",
   "execution_count": 22,
   "metadata": {
    "execution": {
     "iopub.execute_input": "2020-10-16T17:13:39.175613Z",
     "iopub.status.busy": "2020-10-16T17:13:39.174503Z",
     "iopub.status.idle": "2020-10-16T17:13:39.177870Z",
     "shell.execute_reply": "2020-10-16T17:13:39.178467Z"
    },
    "papermill": {
     "duration": 0.059278,
     "end_time": "2020-10-16T17:13:39.178661",
     "exception": false,
     "start_time": "2020-10-16T17:13:39.119383",
     "status": "completed"
    },
    "tags": []
   },
   "outputs": [],
   "source": [
    "s='<bound method DataFrame.mode of      PassengerId  Pclass  Sex   Age  SibSp  Parch      Fare  Embarked\\n0            892       3    1  34.5      0      0    7.8292         3\\n1            893       3    2  47.0      1      0    7.0000         1\\n2            894       2    1  62.0      0      0    9.6875         3\\n3            895       3    1  27.0      0      0    8.6625         1\\n4            896       3    2  22.0      1      1   12.2875         1\\n..           ...     ...  ...   ...    ...    ...       ...       ...\\n413         1305       3    1   NaN      0      0    8.0500         1\\n414         1306       1    2  39.0      0      0  108.9000         2\\n415         1307       3    1  38.5      0      0    7.2500         1\\n416         1308       3    1   NaN      0      0    8.0500         1\\n417         1309       3    1   NaN      1      1   22.3583         2\\n\\n[418 rows x 8 columns]>'"
   ]
  },
  {
   "cell_type": "markdown",
   "metadata": {
    "papermill": {
     "duration": 0.049171,
     "end_time": "2020-10-16T17:13:39.278232",
     "exception": false,
     "start_time": "2020-10-16T17:13:39.229061",
     "status": "completed"
    },
    "tags": []
   },
   "source": [
    "##### replacing it with most frequent value 7.75"
   ]
  },
  {
   "cell_type": "code",
   "execution_count": 23,
   "metadata": {
    "execution": {
     "iopub.execute_input": "2020-10-16T17:13:39.384052Z",
     "iopub.status.busy": "2020-10-16T17:13:39.383281Z",
     "iopub.status.idle": "2020-10-16T17:13:39.386783Z",
     "shell.execute_reply": "2020-10-16T17:13:39.386144Z"
    },
    "papermill": {
     "duration": 0.059369,
     "end_time": "2020-10-16T17:13:39.386983",
     "exception": false,
     "start_time": "2020-10-16T17:13:39.327614",
     "status": "completed"
    },
    "tags": []
   },
   "outputs": [],
   "source": [
    "df.Fare=df.Fare.replace(s,'7.75')"
   ]
  },
  {
   "cell_type": "markdown",
   "metadata": {
    "papermill": {
     "duration": 0.049403,
     "end_time": "2020-10-16T17:13:39.486403",
     "exception": false,
     "start_time": "2020-10-16T17:13:39.437000",
     "status": "completed"
    },
    "tags": []
   },
   "source": [
    "##### converting fare to float datatye"
   ]
  },
  {
   "cell_type": "code",
   "execution_count": 24,
   "metadata": {
    "execution": {
     "iopub.execute_input": "2020-10-16T17:13:39.593332Z",
     "iopub.status.busy": "2020-10-16T17:13:39.592358Z",
     "iopub.status.idle": "2020-10-16T17:13:39.595970Z",
     "shell.execute_reply": "2020-10-16T17:13:39.595325Z"
    },
    "papermill": {
     "duration": 0.059732,
     "end_time": "2020-10-16T17:13:39.596118",
     "exception": false,
     "start_time": "2020-10-16T17:13:39.536386",
     "status": "completed"
    },
    "tags": []
   },
   "outputs": [],
   "source": [
    "df.Fare=df.Fare.apply(float)"
   ]
  },
  {
   "cell_type": "markdown",
   "metadata": {
    "papermill": {
     "duration": 0.049389,
     "end_time": "2020-10-16T17:13:39.696004",
     "exception": false,
     "start_time": "2020-10-16T17:13:39.646615",
     "status": "completed"
    },
    "tags": []
   },
   "source": [
    "##### replacing garbage value in age with 34.5"
   ]
  },
  {
   "cell_type": "code",
   "execution_count": 25,
   "metadata": {
    "execution": {
     "iopub.execute_input": "2020-10-16T17:13:39.811303Z",
     "iopub.status.busy": "2020-10-16T17:13:39.810062Z",
     "iopub.status.idle": "2020-10-16T17:13:40.364338Z",
     "shell.execute_reply": "2020-10-16T17:13:40.363489Z"
    },
    "papermill": {
     "duration": 0.618536,
     "end_time": "2020-10-16T17:13:40.364475",
     "exception": false,
     "start_time": "2020-10-16T17:13:39.745939",
     "status": "completed"
    },
    "tags": []
   },
   "outputs": [],
   "source": [
    "df.Age=df.Age.apply(str)\n",
    "k=df.Age.unique()[10]\n",
    "df.Age=df.Age.replace(k,\"34.5\")\n",
    "df.Age=df.Age.apply(float)"
   ]
  },
  {
   "cell_type": "markdown",
   "metadata": {
    "papermill": {
     "duration": 0.049913,
     "end_time": "2020-10-16T17:13:40.464852",
     "exception": false,
     "start_time": "2020-10-16T17:13:40.414939",
     "status": "completed"
    },
    "tags": []
   },
   "source": [
    "##### predicting the test values"
   ]
  },
  {
   "cell_type": "code",
   "execution_count": 26,
   "metadata": {
    "execution": {
     "iopub.execute_input": "2020-10-16T17:13:40.573979Z",
     "iopub.status.busy": "2020-10-16T17:13:40.573126Z",
     "iopub.status.idle": "2020-10-16T17:13:40.576378Z",
     "shell.execute_reply": "2020-10-16T17:13:40.576952Z"
    },
    "papermill": {
     "duration": 0.061626,
     "end_time": "2020-10-16T17:13:40.577127",
     "exception": false,
     "start_time": "2020-10-16T17:13:40.515501",
     "status": "completed"
    },
    "tags": []
   },
   "outputs": [],
   "source": [
    "pred=model.predict(df)"
   ]
  },
  {
   "cell_type": "code",
   "execution_count": 27,
   "metadata": {
    "execution": {
     "iopub.execute_input": "2020-10-16T17:13:40.687487Z",
     "iopub.status.busy": "2020-10-16T17:13:40.686413Z",
     "iopub.status.idle": "2020-10-16T17:13:40.689778Z",
     "shell.execute_reply": "2020-10-16T17:13:40.689069Z"
    },
    "papermill": {
     "duration": 0.060961,
     "end_time": "2020-10-16T17:13:40.689917",
     "exception": false,
     "start_time": "2020-10-16T17:13:40.628956",
     "status": "completed"
    },
    "tags": []
   },
   "outputs": [],
   "source": [
    "Id=df.PassengerId.values\n",
    "l=[]\n",
    "for i ,j in zip(Id,pred):\n",
    "    l.append([i,j])"
   ]
  },
  {
   "cell_type": "markdown",
   "metadata": {
    "papermill": {
     "duration": 0.050069,
     "end_time": "2020-10-16T17:13:40.790902",
     "exception": false,
     "start_time": "2020-10-16T17:13:40.740833",
     "status": "completed"
    },
    "tags": []
   },
   "source": [
    "##### converting them to a dataframe"
   ]
  },
  {
   "cell_type": "code",
   "execution_count": 28,
   "metadata": {
    "execution": {
     "iopub.execute_input": "2020-10-16T17:13:40.900246Z",
     "iopub.status.busy": "2020-10-16T17:13:40.899203Z",
     "iopub.status.idle": "2020-10-16T17:13:40.902977Z",
     "shell.execute_reply": "2020-10-16T17:13:40.902208Z"
    },
    "papermill": {
     "duration": 0.061661,
     "end_time": "2020-10-16T17:13:40.903107",
     "exception": false,
     "start_time": "2020-10-16T17:13:40.841446",
     "status": "completed"
    },
    "tags": []
   },
   "outputs": [],
   "source": [
    "sub=pd.DataFrame(l,columns=[\"PassengerId\",\"Survived\"])"
   ]
  },
  {
   "cell_type": "code",
   "execution_count": 29,
   "metadata": {
    "execution": {
     "iopub.execute_input": "2020-10-16T17:13:41.016817Z",
     "iopub.status.busy": "2020-10-16T17:13:41.015990Z",
     "iopub.status.idle": "2020-10-16T17:13:41.020912Z",
     "shell.execute_reply": "2020-10-16T17:13:41.020102Z"
    },
    "papermill": {
     "duration": 0.066809,
     "end_time": "2020-10-16T17:13:41.021039",
     "exception": false,
     "start_time": "2020-10-16T17:13:40.954230",
     "status": "completed"
    },
    "tags": []
   },
   "outputs": [
    {
     "data": {
      "text/html": [
       "<div>\n",
       "<style scoped>\n",
       "    .dataframe tbody tr th:only-of-type {\n",
       "        vertical-align: middle;\n",
       "    }\n",
       "\n",
       "    .dataframe tbody tr th {\n",
       "        vertical-align: top;\n",
       "    }\n",
       "\n",
       "    .dataframe thead th {\n",
       "        text-align: right;\n",
       "    }\n",
       "</style>\n",
       "<table border=\"1\" class=\"dataframe\">\n",
       "  <thead>\n",
       "    <tr style=\"text-align: right;\">\n",
       "      <th></th>\n",
       "      <th>PassengerId</th>\n",
       "      <th>Survived</th>\n",
       "    </tr>\n",
       "  </thead>\n",
       "  <tbody>\n",
       "    <tr>\n",
       "      <th>0</th>\n",
       "      <td>892</td>\n",
       "      <td>0</td>\n",
       "    </tr>\n",
       "    <tr>\n",
       "      <th>1</th>\n",
       "      <td>893</td>\n",
       "      <td>0</td>\n",
       "    </tr>\n",
       "    <tr>\n",
       "      <th>2</th>\n",
       "      <td>894</td>\n",
       "      <td>0</td>\n",
       "    </tr>\n",
       "    <tr>\n",
       "      <th>3</th>\n",
       "      <td>895</td>\n",
       "      <td>0</td>\n",
       "    </tr>\n",
       "    <tr>\n",
       "      <th>4</th>\n",
       "      <td>896</td>\n",
       "      <td>1</td>\n",
       "    </tr>\n",
       "    <tr>\n",
       "      <th>...</th>\n",
       "      <td>...</td>\n",
       "      <td>...</td>\n",
       "    </tr>\n",
       "    <tr>\n",
       "      <th>413</th>\n",
       "      <td>1305</td>\n",
       "      <td>0</td>\n",
       "    </tr>\n",
       "    <tr>\n",
       "      <th>414</th>\n",
       "      <td>1306</td>\n",
       "      <td>1</td>\n",
       "    </tr>\n",
       "    <tr>\n",
       "      <th>415</th>\n",
       "      <td>1307</td>\n",
       "      <td>0</td>\n",
       "    </tr>\n",
       "    <tr>\n",
       "      <th>416</th>\n",
       "      <td>1308</td>\n",
       "      <td>0</td>\n",
       "    </tr>\n",
       "    <tr>\n",
       "      <th>417</th>\n",
       "      <td>1309</td>\n",
       "      <td>0</td>\n",
       "    </tr>\n",
       "  </tbody>\n",
       "</table>\n",
       "<p>418 rows × 2 columns</p>\n",
       "</div>"
      ],
      "text/plain": [
       "     PassengerId  Survived\n",
       "0            892         0\n",
       "1            893         0\n",
       "2            894         0\n",
       "3            895         0\n",
       "4            896         1\n",
       "..           ...       ...\n",
       "413         1305         0\n",
       "414         1306         1\n",
       "415         1307         0\n",
       "416         1308         0\n",
       "417         1309         0\n",
       "\n",
       "[418 rows x 2 columns]"
      ]
     },
     "execution_count": 29,
     "metadata": {},
     "output_type": "execute_result"
    }
   ],
   "source": [
    "sub"
   ]
  },
  {
   "cell_type": "markdown",
   "metadata": {
    "papermill": {
     "duration": 0.051316,
     "end_time": "2020-10-16T17:13:41.123821",
     "exception": false,
     "start_time": "2020-10-16T17:13:41.072505",
     "status": "completed"
    },
    "tags": []
   },
   "source": [
    "##### storing as a dataframe"
   ]
  },
  {
   "cell_type": "code",
   "execution_count": 30,
   "metadata": {
    "execution": {
     "iopub.execute_input": "2020-10-16T17:13:41.234146Z",
     "iopub.status.busy": "2020-10-16T17:13:41.233343Z",
     "iopub.status.idle": "2020-10-16T17:13:41.622079Z",
     "shell.execute_reply": "2020-10-16T17:13:41.621254Z"
    },
    "papermill": {
     "duration": 0.445988,
     "end_time": "2020-10-16T17:13:41.622220",
     "exception": false,
     "start_time": "2020-10-16T17:13:41.176232",
     "status": "completed"
    },
    "tags": []
   },
   "outputs": [
    {
     "name": "stdout",
     "output_type": "stream",
     "text": [
      "Saved file: Titanic Predictions 1.csv\n"
     ]
    }
   ],
   "source": [
    "filename = 'Titanic Predictions 1.csv'\n",
    "\n",
    "sub.to_csv(filename,index=False)\n",
    "\n",
    "print('Saved file: ' + filename)"
   ]
  },
  {
   "cell_type": "code",
   "execution_count": null,
   "metadata": {
    "papermill": {
     "duration": 0.052272,
     "end_time": "2020-10-16T17:13:41.727277",
     "exception": false,
     "start_time": "2020-10-16T17:13:41.675005",
     "status": "completed"
    },
    "tags": []
   },
   "outputs": [],
   "source": []
  }
 ],
 "metadata": {
  "kernelspec": {
   "display_name": "Python 3",
   "language": "python",
   "name": "python3"
  },
  "language_info": {
   "codemirror_mode": {
    "name": "ipython",
    "version": 3
   },
   "file_extension": ".py",
   "mimetype": "text/x-python",
   "name": "python",
   "nbconvert_exporter": "python",
   "pygments_lexer": "ipython3",
   "version": "3.7.6"
  },
  "papermill": {
   "duration": 14.751223,
   "end_time": "2020-10-16T17:13:41.887948",
   "environment_variables": {},
   "exception": null,
   "input_path": "__notebook__.ipynb",
   "output_path": "__notebook__.ipynb",
   "parameters": {},
   "start_time": "2020-10-16T17:13:27.136725",
   "version": "2.1.0"
  }
 },
 "nbformat": 4,
 "nbformat_minor": 4
}
